{
  "nbformat": 4,
  "nbformat_minor": 0,
  "metadata": {
    "colab": {
      "provenance": [],
      "authorship_tag": "ABX9TyNfvfrvv4rp9jHJPycDqOce",
      "include_colab_link": true
    },
    "kernelspec": {
      "name": "python3",
      "display_name": "Python 3"
    },
    "language_info": {
      "name": "python"
    }
  },
  "cells": [
    {
      "cell_type": "markdown",
      "metadata": {
        "id": "view-in-github",
        "colab_type": "text"
      },
      "source": [
        "<a href=\"https://colab.research.google.com/github/freha-mezzoudj/Fast-Computation/blob/main/numba_decoratorsV1.ipynb\" target=\"_parent\"><img src=\"https://colab.research.google.com/assets/colab-badge.svg\" alt=\"Open In Colab\"/></a>"
      ]
    },
    {
      "cell_type": "markdown",
      "source": [
        "##**Numba** : Make the Python Code Run Faster like C/C++"
      ],
      "metadata": {
        "id": "6kGlfSUtIsu5"
      }
    },
    {
      "cell_type": "markdown",
      "source": [
        "* Python is an interpreter-based language hence it's slow compared to other compiler-based languages like C/C++. Due to this python was not used in any performance-intensive application. To solve this problem, a python library named Numba was developed. Numba is generally referred to as Just-In-Time (JIT) compiler of python code which can speed some parts of or all of the python code by converting it to low-level machine instructions. It uses LLVM library for converting python code to machine instructions. Many times, numba can translate whole function code as well to lower level machine instructions. \n",
        "\n",
        "* Numba is a python library that translates a subset of the python code into low-level machine code using LLVM compiler to speed up our existing python code. In order to speed up our code, it generally does not require many changes to our code, using one of the decorators (@jit, @vectorize, etc) provided by numba.\n",
        "\n",
        "* The process of using Numba to speed up code is quite simple. Numba provides us with a list of decorators that we can use to decorate our functions and it'll compile them when we call the function the first time. Each subsequent call will be using that compiled version hence will be faster. When a function decorated with Numba decorators is called, it'll be compiled first to generate faster machine code hence it'll take a little more time. Once the code is compiled then recalling such function will be way faster because the compiled version will be called subsequently.\n",
        "\n",
        "* Numba works well on functions that involve python loops or numpy arrays. When we decorate an existing function with a numba decorator, it compiles the part of the function code which it can translate to lower-level machine code which will be able to run faster and speeds up the function. \n",
        "\n",
        "* see: https://llvm.org/"
      ],
      "metadata": {
        "id": "9PU4fqwvGA-p"
      }
    },
    {
      "cell_type": "markdown",
      "source": [
        "**Numba can only translate a certain subset of python code which involves loops and code involving numpy to faster machine code. Not everything will be running faster using Numba.**"
      ],
      "metadata": {
        "id": "U8vtgMtHN1H8"
      }
    },
    {
      "cell_type": "markdown",
      "source": [
        "* A Sunny Solanki's tutorial at: https://coderzcolumn.com/tutorials/python/numba"
      ],
      "metadata": {
        "id": "6EHztfgnONOj"
      }
    },
    {
      "cell_type": "markdown",
      "source": [
        "* Thanks to Jack of Some: https://www.youtube.com/watch?v=x58W9A2lnQc\n"
      ],
      "metadata": {
        "id": "QxlK3vnF28Yk"
      }
    },
    {
      "cell_type": "code",
      "source": [
        "%pylab inline"
      ],
      "metadata": {
        "colab": {
          "base_uri": "https://localhost:8080/"
        },
        "id": "fv0XK8fT3Nbz",
        "outputId": "8504bde3-d8f7-4ef7-a39c-fd095bd8ae41"
      },
      "execution_count": 13,
      "outputs": [
        {
          "output_type": "stream",
          "name": "stdout",
          "text": [
            "Populating the interactive namespace from numpy and matplotlib\n"
          ]
        },
        {
          "output_type": "stream",
          "name": "stderr",
          "text": [
            "/usr/local/lib/python3.8/dist-packages/IPython/core/magics/pylab.py:159: UserWarning: pylab import has clobbered these variables: ['random']\n",
            "`%matplotlib` prevents importing * from pylab and numpy\n",
            "  warn(\"pylab import has clobbered these variables: %s\"  % clobbered +\n"
          ]
        }
      ]
    },
    {
      "cell_type": "markdown",
      "source": [
        "**Numba @jit decoder**\n",
        "\n",
        "@jit decorator can be used to decorate any python function and it should speed up the python function."
      ],
      "metadata": {
        "id": "tPZlcqntKCRx"
      }
    },
    {
      "cell_type": "markdown",
      "source": [
        "*Example 1:*"
      ],
      "metadata": {
        "id": "QQ4eGet4RGXk"
      }
    },
    {
      "cell_type": "code",
      "source": [
        "from numba import jit\n",
        "import random\n",
        "#@jit(nopython=True)               not yet!\n",
        "def monte_carlo_pi(nsamples):\n",
        "  acc=0\n",
        "  for i in range(nsamples):\n",
        "    x=random.random()\n",
        "    y=random.random()\n",
        "    if (x**2+y**2)<1.0:\n",
        "      acc+=1\n",
        "  return 4.0 * acc / nsamples    "
      ],
      "metadata": {
        "id": "NvZTSANo3cCB"
      },
      "execution_count": 19,
      "outputs": []
    },
    {
      "cell_type": "markdown",
      "source": [
        "We call the function:"
      ],
      "metadata": {
        "id": "KGRQNi545fMA"
      }
    },
    {
      "cell_type": "code",
      "source": [
        "%time monte_carlo_pi(10000)"
      ],
      "metadata": {
        "colab": {
          "base_uri": "https://localhost:8080/"
        },
        "id": "1JAMK0634hRf",
        "outputId": "3c3ca970-cc36-464f-9095-1af6dd8b1d71"
      },
      "execution_count": 20,
      "outputs": [
        {
          "output_type": "stream",
          "name": "stdout",
          "text": [
            "CPU times: user 6.72 ms, sys: 1.09 ms, total: 7.81 ms\n",
            "Wall time: 10.8 ms\n"
          ]
        },
        {
          "output_type": "execute_result",
          "data": {
            "text/plain": [
              "3.1056"
            ]
          },
          "metadata": {},
          "execution_count": 20
        }
      ]
    },
    {
      "cell_type": "markdown",
      "source": [
        "We use the jit of numba:"
      ],
      "metadata": {
        "id": "Jt0YFRjY5sxj"
      }
    },
    {
      "cell_type": "code",
      "source": [
        "monte_carlo_pi_jitted = jit(nopython=True)(monte_carlo_pi)"
      ],
      "metadata": {
        "id": "TMZ2n9lO5ecv"
      },
      "execution_count": 23,
      "outputs": []
    },
    {
      "cell_type": "code",
      "source": [
        "%time monte_carlo_pi_jit(10000)"
      ],
      "metadata": {
        "colab": {
          "base_uri": "https://localhost:8080/"
        },
        "id": "S-rDC6H96Sqa",
        "outputId": "489e228a-e216-40c2-f66a-b040820be214"
      },
      "execution_count": 24,
      "outputs": [
        {
          "output_type": "stream",
          "name": "stdout",
          "text": [
            "CPU times: user 219 µs, sys: 22 µs, total: 241 µs\n",
            "Wall time: 245 µs\n"
          ]
        },
        {
          "output_type": "execute_result",
          "data": {
            "text/plain": [
              "3.0984"
            ]
          },
          "metadata": {},
          "execution_count": 24
        }
      ]
    },
    {
      "cell_type": "markdown",
      "source": [
        "We can use \n",
        "* **@jit(nopython=True)** \n",
        "* or **@njit()** : (Strict nopython Mode)"
      ],
      "metadata": {
        "id": "q-9KEsyF-96w"
      }
    },
    {
      "cell_type": "markdown",
      "source": [
        "@jit(nopython=True)-->\n",
        "This will force Numba to run in strict nopython mode and convert all the code of the function to low-level machine code."
      ],
      "metadata": {
        "id": "3lHIemTJTw1e"
      }
    },
    {
      "cell_type": "code",
      "source": [
        "from numba import njit\n",
        "monte_carlo_pi_jitted2 = njit()(monte_carlo_pi)"
      ],
      "metadata": {
        "id": "7qUKivg2-Af8"
      },
      "execution_count": 27,
      "outputs": []
    },
    {
      "cell_type": "code",
      "source": [
        "%time monte_carlo_pi_jit(10000)"
      ],
      "metadata": {
        "colab": {
          "base_uri": "https://localhost:8080/"
        },
        "id": "JCzcWkVZ-7hl",
        "outputId": "45a8b8e1-fc08-4c2b-fe5a-39789f46b127"
      },
      "execution_count": 28,
      "outputs": [
        {
          "output_type": "stream",
          "name": "stdout",
          "text": [
            "CPU times: user 298 µs, sys: 0 ns, total: 298 µs\n",
            "Wall time: 307 µs\n"
          ]
        },
        {
          "output_type": "execute_result",
          "data": {
            "text/plain": [
              "3.124"
            ]
          },
          "metadata": {},
          "execution_count": 28
        }
      ]
    },
    {
      "cell_type": "markdown",
      "source": [
        "*Example 2*"
      ],
      "metadata": {
        "id": "fTiupj8AOrar"
      }
    },
    {
      "cell_type": "markdown",
      "source": [
        "Without Numba @jit decoder:"
      ],
      "metadata": {
        "id": "PsjBBmcOR56I"
      }
    },
    {
      "cell_type": "code",
      "source": [
        "def cube_formula(x):\n",
        "    return x**3 + 3*x**2 + 3"
      ],
      "metadata": {
        "id": "gvbHDKa8RRzU"
      },
      "execution_count": 40,
      "outputs": []
    },
    {
      "cell_type": "code",
      "source": [
        "def perform_operation(x):\n",
        "    out = np.empty_like(x)\n",
        "    for i, elem in enumerate(x):\n",
        "        res = cube_formula(elem)\n",
        "        out[i] = res\n",
        "    return out"
      ],
      "metadata": {
        "id": "-3uhWu74RX4l"
      },
      "execution_count": 41,
      "outputs": []
    },
    {
      "cell_type": "code",
      "source": [
        "%time out = perform_operation(np.arange(1e6))"
      ],
      "metadata": {
        "colab": {
          "base_uri": "https://localhost:8080/"
        },
        "id": "Xar7YNVaRfE0",
        "outputId": "9ec6406d-d692-424c-934d-0afc8a855195"
      },
      "execution_count": 42,
      "outputs": [
        {
          "output_type": "stream",
          "name": "stdout",
          "text": [
            "CPU times: user 1.41 s, sys: 8.52 ms, total: 1.41 s\n",
            "Wall time: 1.44 s\n"
          ]
        }
      ]
    },
    {
      "cell_type": "code",
      "source": [
        "%time out = perform_operation(np.arange(1e7))"
      ],
      "metadata": {
        "colab": {
          "base_uri": "https://localhost:8080/"
        },
        "id": "z7HffRv9Rgn0",
        "outputId": "58c7a276-2570-40fb-8be1-e00737afc318"
      },
      "execution_count": 43,
      "outputs": [
        {
          "output_type": "stream",
          "name": "stdout",
          "text": [
            "CPU times: user 13.6 s, sys: 49.1 ms, total: 13.6 s\n",
            "Wall time: 13.7 s\n"
          ]
        }
      ]
    },
    {
      "cell_type": "markdown",
      "source": [
        "Only @jit  --> (nopython = False)"
      ],
      "metadata": {
        "id": "D5BV6tsuUrHV"
      }
    },
    {
      "cell_type": "code",
      "source": [
        "@jit           #(nopython=False) by default \n",
        "def cube_formula1(x):\n",
        "    return x**3 + 5*x**2 + 5"
      ],
      "metadata": {
        "id": "2duQVYPXUgMS"
      },
      "execution_count": 57,
      "outputs": []
    },
    {
      "cell_type": "code",
      "source": [
        "@jit \n",
        "def perform_operation_jitted(x):\n",
        "    out = np.empty_like(x)\n",
        "    for i, elem in enumerate(x):\n",
        "        res = cube_formula1(elem)\n",
        "        out[i] = res\n",
        "    return out"
      ],
      "metadata": {
        "id": "gRND9FjtU8pX"
      },
      "execution_count": 58,
      "outputs": []
    },
    {
      "cell_type": "code",
      "source": [
        "%time out = perform_operation_jitted(np.arange(1e6))"
      ],
      "metadata": {
        "colab": {
          "base_uri": "https://localhost:8080/"
        },
        "id": "jBbIddl4U-L1",
        "outputId": "51bbafe4-1c03-42d8-9a4b-970732fffc34"
      },
      "execution_count": 59,
      "outputs": [
        {
          "output_type": "stream",
          "name": "stdout",
          "text": [
            "CPU times: user 193 ms, sys: 8.57 ms, total: 201 ms\n",
            "Wall time: 200 ms\n"
          ]
        }
      ]
    },
    {
      "cell_type": "code",
      "source": [
        "%time out = perform_operation_jitted(np.arange(1e7))"
      ],
      "metadata": {
        "colab": {
          "base_uri": "https://localhost:8080/"
        },
        "outputId": "d4f4c269-1cf9-4cbc-842a-f912ce8510b3",
        "id": "uw7K6cf4VEt5"
      },
      "execution_count": 60,
      "outputs": [
        {
          "output_type": "stream",
          "name": "stdout",
          "text": [
            "CPU times: user 33.4 ms, sys: 0 ns, total: 33.4 ms\n",
            "Wall time: 33.6 ms\n"
          ]
        }
      ]
    },
    {
      "cell_type": "markdown",
      "source": [
        "We can notice from the results of time taken by both functions that it takes literally a lot less compared to what it used to take without @jit. The @jit decorator has improved the performance by quite a big margin."
      ],
      "metadata": {
        "id": "QP2uqHsfV-ht"
      }
    },
    {
      "cell_type": "markdown",
      "source": [
        "With Numba @jit decoder:"
      ],
      "metadata": {
        "id": "A_zkIDZERrOU"
      }
    },
    {
      "cell_type": "code",
      "source": [
        "@jit(nopython=True)  \n",
        "def cube_formula(x):\n",
        "    return x**3 + 3*x**2 + 3"
      ],
      "metadata": {
        "id": "5BddTnlKRqPM"
      },
      "execution_count": 45,
      "outputs": []
    },
    {
      "cell_type": "code",
      "source": [
        "@jit(nopython=True) \n",
        "def perform_operation_jitted(x):\n",
        "    out = np.empty_like(x)\n",
        "    for i, elem in enumerate(x):\n",
        "        res = cube_formula(elem)\n",
        "        out[i] = res\n",
        "    return out"
      ],
      "metadata": {
        "id": "rrcqftsLRp50"
      },
      "execution_count": 46,
      "outputs": []
    },
    {
      "cell_type": "code",
      "source": [
        "%time out = perform_operation_jitted(np.arange(1e6))"
      ],
      "metadata": {
        "colab": {
          "base_uri": "https://localhost:8080/"
        },
        "id": "D4SjSR9lSC6M",
        "outputId": "8a2e5980-b2cf-48a9-e2b3-653bf7ff9f72"
      },
      "execution_count": 47,
      "outputs": [
        {
          "output_type": "stream",
          "name": "stdout",
          "text": [
            "CPU times: user 282 ms, sys: 1.98 ms, total: 284 ms\n",
            "Wall time: 286 ms\n"
          ]
        }
      ]
    },
    {
      "cell_type": "code",
      "source": [
        "%time out = perform_operation_jitted(np.arange(1e7))"
      ],
      "metadata": {
        "colab": {
          "base_uri": "https://localhost:8080/"
        },
        "id": "gexuxXuBSEC1",
        "outputId": "a02e9974-ac37-4204-9fa9-25efdd1d9578"
      },
      "execution_count": 48,
      "outputs": [
        {
          "output_type": "stream",
          "name": "stdout",
          "text": [
            "CPU times: user 41.3 ms, sys: 632 µs, total: 42 ms\n",
            "Wall time: 48.7 ms\n"
          ]
        }
      ]
    },
    {
      "cell_type": "markdown",
      "source": [],
      "metadata": {
        "id": "6rREEE9RXTt_"
      }
    },
    {
      "cell_type": "code",
      "source": [
        "from numba import jit, int32, int64, float32, float64\n",
        "\n",
        "@jit([int32(int32), int64(int64), float64(float64)], nopython=True, cache=True)\n",
        "def cube_formula(x):\n",
        "    return x**3 + 3*x**2 + 3\n",
        "\n",
        "@jit([int64[:](int64[:]), float64[:](float64[:])], nopython=True, cache=True)\n",
        "def perform_operation_jitted(x):\n",
        "    out = np.empty_like(x)\n",
        "    for i, elem in enumerate(x):\n",
        "        res = cube_formula(elem)\n",
        "        out[i] = res\n",
        "    return out"
      ],
      "metadata": {
        "id": "sgNzAM5iXU3a"
      },
      "execution_count": null,
      "outputs": []
    },
    {
      "cell_type": "markdown",
      "source": [
        "By using the **type** of the array and **nopython** options, we can notice from the time taken by executions that they are the lowest of all our tries till now."
      ],
      "metadata": {
        "id": "NH9Gd-LDXfIG"
      }
    },
    {
      "cell_type": "markdown",
      "source": [
        "Parallelize Code for Multi-Core CPU (Uses Multi-Threading to Parallelize) "
      ],
      "metadata": {
        "id": "AhMA3ZkzX5t3"
      }
    },
    {
      "cell_type": "markdown",
      "source": [
        "Numba can also parallelize our code on multi-core CPUs. It uses multi-threading to speed up code by running threads on different cores of the computer in parallel. In order to parallelize code, we need to set parallel parameter of @jit decorator to True. There are two types of parallelization available in Numba\n",
        "\n",
        "* Automatic Parallelization - When we decorate a function with @jit(parallel=True) decorator, Numba will try to run function in parallel if possible else it'll run it normally.\n",
        "\n",
        "* Explicit Parallel Loops - We can explicitly force Numba to run code in parallel by using prange() function available from Numba for the loops. This will force Numba to parallelize code.\n",
        "\n",
        "We'll use explicit parallelization by using prange() function.\n",
        "\n"
      ],
      "metadata": {
        "id": "u_luwtv7YAxG"
      }
    },
    {
      "cell_type": "markdown",
      "source": [
        "Also, the Python Global Interpreter Lock (GIL) can prevent the speed up of multi-threading. We'll explain in our upcoming examples how we can release GIL and get around this problem.\n",
        "\n",
        "Below we have re-defined our functions and set parallel parameter to True inside of @jit decorator. We have also modified the logic of our perform_operation_jitted() function to use prange() function. We are using index retrieved from prange() function to index array and retrieve individual element."
      ],
      "metadata": {
        "id": "aoukKwPRYzgR"
      }
    },
    {
      "cell_type": "code",
      "source": [
        "from numba import jit, int64, float32, float64, prange"
      ],
      "metadata": {
        "id": "iD-0QrSLYzM6"
      },
      "execution_count": null,
      "outputs": []
    },
    {
      "cell_type": "code",
      "source": [
        "@jit([int64(int64), float64(float64)], nopython=True, cache=True)\n",
        "def cube_formula(x):\n",
        "    return x**3 + 3*x**2 + 3"
      ],
      "metadata": {
        "id": "KIyriJevZCdu"
      },
      "execution_count": null,
      "outputs": []
    },
    {
      "cell_type": "markdown",
      "source": [
        "Options: type, nopython=True, cache=True, parallel=True"
      ],
      "metadata": {
        "id": "5btAb54UZk2X"
      }
    },
    {
      "cell_type": "code",
      "source": [
        "@jit([int64[:](int64[:]), float64[:](float64[:])], nopython=True, cache=True, parallel=True)\n",
        "def perform_operation_jitted(x):\n",
        "    out = np.empty_like(x)\n",
        "    for i in prange(len(x)):\n",
        "        res = cube_formula(x[i])\n",
        "        out[i] = res\n",
        "    return out"
      ],
      "metadata": {
        "id": "o0I0h7LxZBYO"
      },
      "execution_count": null,
      "outputs": []
    },
    {
      "cell_type": "markdown",
      "source": [
        "Numba does not Improve Pandas Code "
      ],
      "metadata": {
        "id": "7oAgeut0aDsA"
      }
    },
    {
      "cell_type": "markdown",
      "source": [
        "Numba works well with python loops and numpy. Though Pandas is built on top of numpy but still Numba can not improve code involving pandas data structures using pandas operations. The reason behind this can be that Numba does not have access to lower-level code behind pandas API which it can optimize.\n",
        "Sol: https://coderzcolumn.com/tutorials/python/guide-to-speed-up-code-involving-pandas-dataframe-using-numba\n"
      ],
      "metadata": {
        "id": "UyJsA-rDaG6g"
      }
    },
    {
      "cell_type": "markdown",
      "source": [
        "**Numba vectorization**"
      ],
      "metadata": {
        "id": "a3j0OspYSLDt"
      }
    },
    {
      "cell_type": "markdown",
      "source": [
        "*Example 1 using Vectorize()*"
      ],
      "metadata": {
        "id": "Hg-6mAXd_qpm"
      }
    },
    {
      "cell_type": "markdown",
      "source": [
        "example from: https://www.learnpythonwithrune.org/performance-comparison-of-numba-vs-vectorization-vs-lambda-function-with-numpy/"
      ],
      "metadata": {
        "id": "chpUXD7rCInX"
      }
    },
    {
      "cell_type": "code",
      "source": [
        "size = 100\n",
        "x = np.random.rand(size, size)\n",
        "y = np.random.rand(size, size)\n",
        "iterations = 100000"
      ],
      "metadata": {
        "id": "Usg_cP9OCI7-"
      },
      "execution_count": 36,
      "outputs": []
    },
    {
      "cell_type": "code",
      "source": [
        "@jit(nopython=True)\n",
        "def add_numba(a, b):\n",
        "    c = np.zeros(a.shape)\n",
        "    for i in range(a.shape[0]):\n",
        "        for j in range(a.shape[1]):\n",
        "            c[i, j] = a[i, j] + b[i, j]\n",
        "    return c"
      ],
      "metadata": {
        "id": "Z-TvB6xZCM5l"
      },
      "execution_count": 37,
      "outputs": []
    },
    {
      "cell_type": "code",
      "source": [
        "def add_vectorized(a, b):\n",
        "    return a + b"
      ],
      "metadata": {
        "id": "1TKym1JKCNZ9"
      },
      "execution_count": 38,
      "outputs": []
    },
    {
      "cell_type": "markdown",
      "source": [
        "We call the function once, to precompile the code"
      ],
      "metadata": {
        "id": "xl7CzyCZCaAV"
      }
    },
    {
      "cell_type": "code",
      "source": [
        "z = add_numba(x, y)\n",
        "start = time.time()\n",
        "for _ in range(iterations):\n",
        "    z = add_numba(x, y)\n",
        "end = time.time()\n",
        "print(\"Elapsed (numba, precompiled) = %s\" % (end - start))\n"
      ],
      "metadata": {
        "id": "4sWpbDtwCWsF"
      },
      "execution_count": null,
      "outputs": []
    },
    {
      "cell_type": "code",
      "source": [
        "start = time.time()\n",
        "for _ in range(iterations):\n",
        "    z = add_vectorized(x, y)\n",
        "end = time.time()\n",
        "print(\"Elapsed (vectorized) = %s\" % (end - start))"
      ],
      "metadata": {
        "id": "7mcsFqvTCw1V"
      },
      "execution_count": null,
      "outputs": []
    },
    {
      "cell_type": "markdown",
      "source": [
        "* @vectorize is used to write an expression that can be applied one element at a time (scalars) to an array. \n",
        "\n",
        "* The @jit decorator is more general and can work on any type of calculation."
      ],
      "metadata": {
        "id": "TXmio4sAEJTm"
      }
    },
    {
      "cell_type": "markdown",
      "source": [],
      "metadata": {
        "id": "T9ooUG94JSa0"
      }
    },
    {
      "cell_type": "markdown",
      "source": [
        "\n",
        "* More examples at: https://coderzcolumn.com/tutorials/python/numba-vectorize-decorator"
      ],
      "metadata": {
        "id": "J8fgfNmiJakp"
      }
    },
    {
      "cell_type": "markdown",
      "source": [
        "*Example 2*"
      ],
      "metadata": {
        "id": "eSbhVkM_blkn"
      }
    },
    {
      "cell_type": "code",
      "source": [
        "def cube_formula(x):\n",
        "    return x**3 + 3*x**2 + 3\n",
        "\n",
        "cube_formula(5)"
      ],
      "metadata": {
        "colab": {
          "base_uri": "https://localhost:8080/"
        },
        "id": "rb3460xsborP",
        "outputId": "8b143ed1-773c-4e37-893a-4209b6d20520"
      },
      "execution_count": 61,
      "outputs": [
        {
          "output_type": "execute_result",
          "data": {
            "text/plain": [
              "203"
            ]
          },
          "metadata": {},
          "execution_count": 61
        }
      ]
    },
    {
      "cell_type": "markdown",
      "source": [
        "We have vectorized our cube_formula() function using np.vectorize() function. \n",
        "The np.vectorize() function takes as input any function and make it run on numpy array. \n",
        "\n",
        "The function wrapped inside of np.vectorize() will run faster compared to same function run as python loop through array."
      ],
      "metadata": {
        "id": "wZNZ0KeXbtH3"
      }
    },
    {
      "cell_type": "code",
      "source": [
        "vectorized_cube_formula = np.vectorize(cube_formula)\n",
        "\n",
        "vectorized_cube_formula"
      ],
      "metadata": {
        "colab": {
          "base_uri": "https://localhost:8080/"
        },
        "id": "KcpUuy4wb-Un",
        "outputId": "ee312e78-01f0-4427-b4c0-98a7338cc922"
      },
      "execution_count": 62,
      "outputs": [
        {
          "output_type": "execute_result",
          "data": {
            "text/plain": [
              "<numpy.vectorize at 0x7f0139c243a0>"
            ]
          },
          "metadata": {},
          "execution_count": 62
        }
      ]
    },
    {
      "cell_type": "code",
      "source": [
        "arr = np.arange(1, 1000000, dtype=np.int64)"
      ],
      "metadata": {
        "id": "RRcDKVBYcEqB"
      },
      "execution_count": 63,
      "outputs": []
    },
    {
      "cell_type": "code",
      "source": [
        "%%time\n",
        "\n",
        "res = vectorized_cube_formula(arr)"
      ],
      "metadata": {
        "colab": {
          "base_uri": "https://localhost:8080/"
        },
        "id": "MkUsFyqBcIKn",
        "outputId": "044f6cc6-2c78-490f-a421-fded27be1c34"
      },
      "execution_count": 64,
      "outputs": [
        {
          "output_type": "stream",
          "name": "stdout",
          "text": [
            "CPU times: user 846 ms, sys: 57.4 ms, total: 904 ms\n",
            "Wall time: 905 ms\n"
          ]
        }
      ]
    },
    {
      "cell_type": "code",
      "source": [
        "res[:5]"
      ],
      "metadata": {
        "colab": {
          "base_uri": "https://localhost:8080/"
        },
        "id": "1Y5JsQ0OcNBH",
        "outputId": "56757c40-62f9-4fcd-f5d6-5f6231f19999"
      },
      "execution_count": 65,
      "outputs": [
        {
          "output_type": "execute_result",
          "data": {
            "text/plain": [
              "array([  7,  23,  57, 115, 203])"
            ]
          },
          "metadata": {},
          "execution_count": 65
        }
      ]
    },
    {
      "cell_type": "markdown",
      "source": [
        "The @vectorize decorator requires us to specify possible data types of input and output of the function. It'll then create a compiled version for each data type. The data type should be in order from less memory data type to more memory data type. Below we have highlighted the signature of @vectorize decorator.\n",
        "\n",
        "@vectorize([ret_datatype1(input1_datatype1,input2_datatype1,...), ret_datatype2(input1_datatype2,input2_datatype2,...), ...], target='cpu', cache=False)\n",
        "def func(x):\n",
        "    return x*x\n",
        "Apart from datatypes, it accepts two other arguments.\n",
        "\n",
        "target - This argument accepts one of the below-mentioned three strings as input specifying how to further speed up code based on available resources.\n",
        "'cpu' - This is default argument. It's used for a single-core (single-threaded) CPU.\n",
        "'parallel' - This argument runs code in parallel on multi-core (multi-threaded) CPU.\n",
        "'cuda' - This argument is set for GPU.\n",
        "cache - This parameter accepts boolean values specifying whether to use caching to speed up reruns of the same function again and again with the same inputs."
      ],
      "metadata": {
        "id": "oiX3_0eXcfTQ"
      }
    },
    {
      "cell_type": "code",
      "source": [
        "from numba import vectorize, int64, float32, float64\n",
        "\n",
        "@vectorize([int64(int64), float32(float32), float64(float64)])\n",
        "def cube_formula_numba_vec(x):\n",
        "    return x**3 + 3*x**2 + 3"
      ],
      "metadata": {
        "id": "zIW0-SkNchkq"
      },
      "execution_count": 73,
      "outputs": []
    },
    {
      "cell_type": "code",
      "source": [
        "arr = arr.astype(np.int64)"
      ],
      "metadata": {
        "id": "oVtQhoQjcoSQ"
      },
      "execution_count": 74,
      "outputs": []
    },
    {
      "cell_type": "code",
      "source": [
        "%%time\n",
        "res = cube_formula_numba_vec(arr)"
      ],
      "metadata": {
        "colab": {
          "base_uri": "https://localhost:8080/"
        },
        "id": "DlCW_dSMdrWA",
        "outputId": "58490d61-0762-46a8-e06b-dc3092fa229e"
      },
      "execution_count": 75,
      "outputs": [
        {
          "output_type": "stream",
          "name": "stdout",
          "text": [
            "CPU times: user 1.96 ms, sys: 0 ns, total: 1.96 ms\n",
            "Wall time: 1.97 ms\n"
          ]
        }
      ]
    },
    {
      "cell_type": "code",
      "source": [
        "res[:5]"
      ],
      "metadata": {
        "colab": {
          "base_uri": "https://localhost:8080/"
        },
        "id": "LAJQsdMCc8en",
        "outputId": "1f9605a5-1d7c-4484-e329-a090706f812c"
      },
      "execution_count": 76,
      "outputs": [
        {
          "output_type": "execute_result",
          "data": {
            "text/plain": [
              "array([  7,  23,  57, 115, 203])"
            ]
          },
          "metadata": {},
          "execution_count": 76
        }
      ]
    },
    {
      "cell_type": "markdown",
      "source": [
        "Execution using Flaot type:"
      ],
      "metadata": {
        "id": "GaK1J5eYd9cI"
      }
    },
    {
      "cell_type": "code",
      "source": [
        "arr = arr.astype(np.float64)"
      ],
      "metadata": {
        "id": "QxOlZH4Yd-IY"
      },
      "execution_count": 77,
      "outputs": []
    },
    {
      "cell_type": "code",
      "source": [
        "%%time\n",
        "res = cube_formula_numba_vec(arr)"
      ],
      "metadata": {
        "colab": {
          "base_uri": "https://localhost:8080/"
        },
        "id": "H5Y7Kcrrd-i6",
        "outputId": "f6ba26a2-34c8-4e00-9a1b-b0dd3087f8e6"
      },
      "execution_count": 78,
      "outputs": [
        {
          "output_type": "stream",
          "name": "stdout",
          "text": [
            "CPU times: user 1.96 ms, sys: 0 ns, total: 1.96 ms\n",
            "Wall time: 1.99 ms\n"
          ]
        }
      ]
    },
    {
      "cell_type": "markdown",
      "source": [
        "**Numba Vectorize Decorated and Parallelized Function**\n",
        "we can decorated the function again with @vectorize decorator with 'parallel' option."
      ],
      "metadata": {
        "id": "ZYUrhHKbeXrR"
      }
    },
    {
      "cell_type": "code",
      "source": [
        "from numba import vectorize, int64, float32, float64\n",
        "\n",
        "@vectorize([int64(int64,int64), float32(float32,float32), float64(float64,float64)], target=\"parallel\")\n",
        "def cube_formula_numba_vec_paralleled(x, y):\n",
        "    return x**3 + 3*x**2 + y"
      ],
      "metadata": {
        "id": "4SxqnhK6f3DR"
      },
      "execution_count": 79,
      "outputs": []
    },
    {
      "cell_type": "markdown",
      "source": [
        "We can notice  that the results are almost the same as previous runs without parallelizing."
      ],
      "metadata": {
        "id": "qtVCPNichY5Z"
      }
    }
  ]
}
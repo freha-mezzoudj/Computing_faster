{
  "nbformat": 4,
  "nbformat_minor": 0,
  "metadata": {
    "colab": {
      "provenance": [],
      "authorship_tag": "ABX9TyN0duk5QBOditJ8fVBRgHj0",
      "include_colab_link": true
    },
    "kernelspec": {
      "name": "python3",
      "display_name": "Python 3"
    },
    "language_info": {
      "name": "python"
    },
    "accelerator": "GPU",
    "gpuClass": "standard"
  },
  "cells": [
    {
      "cell_type": "markdown",
      "metadata": {
        "id": "view-in-github",
        "colab_type": "text"
      },
      "source": [
        "<a href=\"https://colab.research.google.com/github/freha-mezzoudj/Fast-Computation/blob/main/store_fastFood_Image_cnnV3_gpu.ipynb\" target=\"_parent\"><img src=\"https://colab.research.google.com/assets/colab-badge.svg\" alt=\"Open In Colab\"/></a>"
      ]
    },
    {
      "cell_type": "code",
      "execution_count": 8,
      "metadata": {
        "id": "KhuoeZrfw6l2",
        "colab": {
          "base_uri": "https://localhost:8080/"
        },
        "outputId": "99ae6edd-27d2-4005-f840-b54a4456e5f2"
      },
      "outputs": [
        {
          "output_type": "stream",
          "name": "stdout",
          "text": [
            "Done\n"
          ]
        }
      ],
      "source": [
        "from zipfile import ZipFile\n",
        "file_name = \"logoDataFastFood.zip\"\n",
        "\n",
        "with ZipFile(file_name, 'r') as zip:\n",
        "  zip.extractall()\n",
        "  print('Done')"
      ]
    },
    {
      "cell_type": "code",
      "execution_count": 9,
      "metadata": {
        "id": "2qmpyNozjvcC"
      },
      "outputs": [],
      "source": [
        "import numpy as np\n",
        "%matplotlib inline\n",
        "import matplotlib.image as mpimg\n",
        "import matplotlib.pyplot as plt\n",
        "import tensorflow as tf\n",
        "tf.compat.v1.set_random_seed(2019) \n",
        "import time"
      ]
    },
    {
      "cell_type": "code",
      "source": [
        "!pip install ipython ipython-autotime"
      ],
      "metadata": {
        "id": "0_B7tpwW92FQ",
        "colab": {
          "base_uri": "https://localhost:8080/"
        },
        "outputId": "4e517420-dcf6-465b-9b59-1f81de71cd2c"
      },
      "execution_count": 10,
      "outputs": [
        {
          "output_type": "stream",
          "name": "stdout",
          "text": [
            "Looking in indexes: https://pypi.org/simple, https://us-python.pkg.dev/colab-wheels/public/simple/\n",
            "Requirement already satisfied: ipython in /usr/local/lib/python3.8/dist-packages (7.9.0)\n",
            "Requirement already satisfied: ipython-autotime in /usr/local/lib/python3.8/dist-packages (0.3.1)\n",
            "Requirement already satisfied: pygments in /usr/local/lib/python3.8/dist-packages (from ipython) (2.6.1)\n",
            "Requirement already satisfied: pexpect in /usr/local/lib/python3.8/dist-packages (from ipython) (4.8.0)\n",
            "Requirement already satisfied: backcall in /usr/local/lib/python3.8/dist-packages (from ipython) (0.2.0)\n",
            "Requirement already satisfied: pickleshare in /usr/local/lib/python3.8/dist-packages (from ipython) (0.7.5)\n",
            "Requirement already satisfied: prompt-toolkit<2.1.0,>=2.0.0 in /usr/local/lib/python3.8/dist-packages (from ipython) (2.0.10)\n",
            "Requirement already satisfied: setuptools>=18.5 in /usr/local/lib/python3.8/dist-packages (from ipython) (57.4.0)\n",
            "Requirement already satisfied: traitlets>=4.2 in /usr/local/lib/python3.8/dist-packages (from ipython) (5.6.0)\n",
            "Requirement already satisfied: jedi>=0.10 in /usr/local/lib/python3.8/dist-packages (from ipython) (0.18.2)\n",
            "Requirement already satisfied: decorator in /usr/local/lib/python3.8/dist-packages (from ipython) (4.4.2)\n",
            "Requirement already satisfied: parso<0.9.0,>=0.8.0 in /usr/local/lib/python3.8/dist-packages (from jedi>=0.10->ipython) (0.8.3)\n",
            "Requirement already satisfied: six>=1.9.0 in /usr/local/lib/python3.8/dist-packages (from prompt-toolkit<2.1.0,>=2.0.0->ipython) (1.15.0)\n",
            "Requirement already satisfied: wcwidth in /usr/local/lib/python3.8/dist-packages (from prompt-toolkit<2.1.0,>=2.0.0->ipython) (0.2.5)\n",
            "Requirement already satisfied: ptyprocess>=0.5 in /usr/local/lib/python3.8/dist-packages (from pexpect->ipython) (0.7.0)\n"
          ]
        }
      ]
    },
    {
      "cell_type": "markdown",
      "source": [],
      "metadata": {
        "id": "UBL_pTElXJX5"
      }
    },
    {
      "cell_type": "code",
      "source": [
        "%load_ext autotime"
      ],
      "metadata": {
        "id": "rKH0ve1bXBfo"
      },
      "execution_count": null,
      "outputs": []
    },
    {
      "cell_type": "markdown",
      "source": [
        "Testing for GPU\n",
        "\n",
        "You can easily check if the GPU is enabled by executing the following code −"
      ],
      "metadata": {
        "id": "vfvX8AVugB-S"
      }
    },
    {
      "cell_type": "code",
      "source": [
        "import tensorflow as tf\n",
        "tf.test.gpu_device_name()"
      ],
      "metadata": {
        "id": "XHgf61uiY5Rn",
        "colab": {
          "base_uri": "https://localhost:8080/",
          "height": 36
        },
        "outputId": "bbf99fd8-3c7f-409d-bf3b-8cf26975bf3c"
      },
      "execution_count": 15,
      "outputs": [
        {
          "output_type": "execute_result",
          "data": {
            "text/plain": [
              "'/device:GPU:0'"
            ],
            "application/vnd.google.colaboratory.intrinsic+json": {
              "type": "string"
            }
          },
          "metadata": {},
          "execution_count": 15
        }
      ]
    },
    {
      "cell_type": "code",
      "source": [
        "from tensorflow.python.client import device_lib\n",
        "device_lib.list_local_devices()"
      ],
      "metadata": {
        "colab": {
          "base_uri": "https://localhost:8080/"
        },
        "id": "kvDSnsVEgOBq",
        "outputId": "f7f554c1-236b-40a1-d329-985f195bad50"
      },
      "execution_count": 17,
      "outputs": [
        {
          "output_type": "execute_result",
          "data": {
            "text/plain": [
              "[name: \"/device:CPU:0\"\n",
              " device_type: \"CPU\"\n",
              " memory_limit: 268435456\n",
              " locality {\n",
              " }\n",
              " incarnation: 7354601342427340308\n",
              " xla_global_id: -1, name: \"/device:GPU:0\"\n",
              " device_type: \"GPU\"\n",
              " memory_limit: 14415560704\n",
              " locality {\n",
              "   bus_id: 1\n",
              "   links {\n",
              "   }\n",
              " }\n",
              " incarnation: 6616598124812974073\n",
              " physical_device_desc: \"device: 0, name: Tesla T4, pci bus id: 0000:00:04.0, compute capability: 7.5\"\n",
              " xla_global_id: 416903419]"
            ]
          },
          "metadata": {},
          "execution_count": 17
        }
      ]
    },
    {
      "cell_type": "code",
      "source": [
        "!cat /proc/cpuinfo"
      ],
      "metadata": {
        "id": "5eDnc8_-ZAoH"
      },
      "execution_count": null,
      "outputs": []
    },
    {
      "cell_type": "code",
      "source": [
        "!cat /proc/gpuinfo"
      ],
      "metadata": {
        "id": "1-zHv_2YZs1v",
        "colab": {
          "base_uri": "https://localhost:8080/"
        },
        "outputId": "fdfdf5ab-c7ee-4e60-d5fd-7858c2e6f1f2"
      },
      "execution_count": 19,
      "outputs": [
        {
          "output_type": "stream",
          "name": "stdout",
          "text": [
            "cat: /proc/gpuinfo: No such file or directory\n"
          ]
        }
      ]
    },
    {
      "cell_type": "code",
      "source": [
        "!cat /proc/meminfo"
      ],
      "metadata": {
        "id": "37bOr9K8ZGcH"
      },
      "execution_count": null,
      "outputs": []
    },
    {
      "cell_type": "markdown",
      "source": [
        "#Classification Code \n",
        "\n",
        "https://github.com/chetanstpt/Fast-food-Image-detection/blob/main/FastFoodStore_Classification_CNN_Final%20(1).ipynb"
      ],
      "metadata": {
        "id": "2U7HtPv0j6Mk"
      }
    },
    {
      "cell_type": "markdown",
      "source": [],
      "metadata": {
        "id": "BsJf0xy8qzhB"
      }
    },
    {
      "cell_type": "markdown",
      "source": [
        "#CNN Model"
      ],
      "metadata": {
        "id": "Uf2H7DjZlJyS"
      }
    },
    {
      "cell_type": "code",
      "source": [
        "model = tf.keras.models.Sequential([\n",
        "    tf.keras.layers.Conv2D(16,(3,3),activation = \"relu\" , input_shape = (180,180,3)) ,\n",
        "    tf.keras.layers.MaxPooling2D(2,2),\n",
        "    tf.keras.layers.Conv2D(32,(3,3),activation = \"relu\") ,  \n",
        "    tf.keras.layers.MaxPooling2D(2,2),\n",
        "    tf.keras.layers.Conv2D(64,(3,3),activation = \"relu\") ,  \n",
        "    tf.keras.layers.MaxPooling2D(2,2),\n",
        "    tf.keras.layers.Conv2D(128,(3,3),activation = \"relu\"),  \n",
        "    tf.keras.layers.MaxPooling2D(2,2),\n",
        "    \n",
        "    tf.keras.layers.Flatten(), # Flattening transforms a two-dimensional matrix of features into a vector of features           \n",
        "    \n",
        "    tf.keras.layers.Dense(550,activation=\"relu\"), #Adding the Hidden layer\n",
        "    tf.keras.layers.Dropout(0.1,seed = 2019),\n",
        "    tf.keras.layers.Dense(400,activation =\"relu\"),\n",
        "    tf.keras.layers.Dropout(0.3,seed = 2019),\n",
        "    tf.keras.layers.Dense(300,activation=\"relu\"),\n",
        "    tf.keras.layers.Dropout(0.4,seed = 2019),\n",
        "    tf.keras.layers.Dense(200,activation =\"relu\"),\n",
        "    tf.keras.layers.Dropout(0.2,seed = 2019),\n",
        "    tf.keras.layers.Dense(5,activation = \"softmax\") #Adding the Output Layer\n",
        "])\n"
      ],
      "metadata": {
        "id": "SRmy3QEvkDYL"
      },
      "execution_count": 20,
      "outputs": []
    },
    {
      "cell_type": "code",
      "source": [
        "%unload_ext autotime"
      ],
      "metadata": {
        "id": "MP0eBPyyvpq6",
        "colab": {
          "base_uri": "https://localhost:8080/"
        },
        "outputId": "f6e4567e-29d3-460d-aa43-f93cff9041b5"
      },
      "execution_count": 21,
      "outputs": [
        {
          "output_type": "stream",
          "name": "stdout",
          "text": [
            "The autotime extension is not loaded.\n"
          ]
        }
      ]
    },
    {
      "cell_type": "markdown",
      "source": [
        "The Summary of the model: "
      ],
      "metadata": {
        "id": "V0DJu5BHlzry"
      }
    },
    {
      "cell_type": "code",
      "source": [
        "model.summary()\n"
      ],
      "metadata": {
        "id": "I0DjpKW9l4Ye",
        "colab": {
          "base_uri": "https://localhost:8080/"
        },
        "outputId": "77323cae-39fb-484f-b416-9c965a47dc87"
      },
      "execution_count": 25,
      "outputs": [
        {
          "output_type": "stream",
          "name": "stdout",
          "text": [
            "Model: \"sequential_1\"\n",
            "_________________________________________________________________\n",
            " Layer (type)                Output Shape              Param #   \n",
            "=================================================================\n",
            " conv2d_4 (Conv2D)           (None, 178, 178, 16)      448       \n",
            "                                                                 \n",
            " max_pooling2d_4 (MaxPooling  (None, 89, 89, 16)       0         \n",
            " 2D)                                                             \n",
            "                                                                 \n",
            " conv2d_5 (Conv2D)           (None, 87, 87, 32)        4640      \n",
            "                                                                 \n",
            " max_pooling2d_5 (MaxPooling  (None, 43, 43, 32)       0         \n",
            " 2D)                                                             \n",
            "                                                                 \n",
            " conv2d_6 (Conv2D)           (None, 41, 41, 64)        18496     \n",
            "                                                                 \n",
            " max_pooling2d_6 (MaxPooling  (None, 20, 20, 64)       0         \n",
            " 2D)                                                             \n",
            "                                                                 \n",
            " conv2d_7 (Conv2D)           (None, 18, 18, 128)       73856     \n",
            "                                                                 \n",
            " max_pooling2d_7 (MaxPooling  (None, 9, 9, 128)        0         \n",
            " 2D)                                                             \n",
            "                                                                 \n",
            " flatten_1 (Flatten)         (None, 10368)             0         \n",
            "                                                                 \n",
            " dense_5 (Dense)             (None, 550)               5702950   \n",
            "                                                                 \n",
            " dropout_4 (Dropout)         (None, 550)               0         \n",
            "                                                                 \n",
            " dense_6 (Dense)             (None, 400)               220400    \n",
            "                                                                 \n",
            " dropout_5 (Dropout)         (None, 400)               0         \n",
            "                                                                 \n",
            " dense_7 (Dense)             (None, 300)               120300    \n",
            "                                                                 \n",
            " dropout_6 (Dropout)         (None, 300)               0         \n",
            "                                                                 \n",
            " dense_8 (Dense)             (None, 200)               60200     \n",
            "                                                                 \n",
            " dropout_7 (Dropout)         (None, 200)               0         \n",
            "                                                                 \n",
            " dense_9 (Dense)             (None, 5)                 1005      \n",
            "                                                                 \n",
            "=================================================================\n",
            "Total params: 6,202,295\n",
            "Trainable params: 6,202,295\n",
            "Non-trainable params: 0\n",
            "_________________________________________________________________\n"
          ]
        }
      ]
    },
    {
      "cell_type": "markdown",
      "source": [
        "The paramters of the model:"
      ],
      "metadata": {
        "id": "zNvjJgpcmVh6"
      }
    },
    {
      "cell_type": "code",
      "source": [
        "%%time\n",
        "from tensorflow.keras.optimizers import RMSprop,SGD,Adam\n",
        "\n",
        "adam=Adam(lr=0.001)\n",
        "model.compile(optimizer='adam',   #Optimiser  used to reduce the cost calculated by cross-entropy\n",
        "              loss='categorical_crossentropy', #the loss function used to calculate the error\n",
        "              metrics = ['acc'])     #the metrics used to represent the efficiency of the model\n"
      ],
      "metadata": {
        "id": "W-jejldUk4Cb",
        "colab": {
          "base_uri": "https://localhost:8080/"
        },
        "outputId": "b8040572-b6e7-4f98-d4c2-49801b4da724"
      },
      "execution_count": 26,
      "outputs": [
        {
          "output_type": "stream",
          "name": "stdout",
          "text": [
            "CPU times: user 7.61 ms, sys: 0 ns, total: 7.61 ms\n",
            "Wall time: 7.56 ms\n"
          ]
        }
      ]
    },
    {
      "cell_type": "markdown",
      "source": [
        "Training and validation data:"
      ],
      "metadata": {
        "id": "ZAEa-MoImlIh"
      }
    },
    {
      "cell_type": "code",
      "source": [
        "%%time\n",
        "bs=30         #Setting batch size\n",
        "    \n",
        "train_dir = \"logoDataFastFood/train/\"  #Setting training directory\n",
        "validation_dir = \"logoDataFastFood/test/\"  #Setting testing directory\n",
        "from tensorflow.keras.preprocessing.image import ImageDataGenerator \n",
        "\n",
        "# All images will be rescaled by 1./255.\n",
        "train_datagen = ImageDataGenerator( rescale = 1.0/255. )\n",
        "test_datagen  = ImageDataGenerator( rescale = 1.0/255. )\n",
        "\n",
        "# Flow training images in batches of 20 using train_datagen generator\n",
        "#Flow_from_directory function lets the classifier directly identify the labels from the name of the directories the image lies in\n",
        "train_generator = train_datagen.flow_from_directory(train_dir,\n",
        "                                                    batch_size=bs,\n",
        "                                                    class_mode='categorical',\n",
        "                                                    target_size=(180,180))     \n",
        "\n",
        "# Flow validation images in batches of 20 using test_datagen generator\n",
        "\n",
        "validation_generator =  test_datagen.flow_from_directory(validation_dir,\n",
        "                                                         batch_size=bs,\n",
        "                                                         class_mode  = 'categorical',\n",
        "                                                         target_size=(180,180))\n"
      ],
      "metadata": {
        "id": "HT6C5l5imvrS",
        "colab": {
          "base_uri": "https://localhost:8080/"
        },
        "outputId": "035f94e6-f741-44fe-ffd7-a615e80bfb08"
      },
      "execution_count": 39,
      "outputs": [
        {
          "output_type": "stream",
          "name": "stdout",
          "text": [
            "Found 1465 images belonging to 5 classes.\n",
            "Found 893 images belonging to 5 classes.\n",
            "CPU times: user 98.9 ms, sys: 21.5 ms, total: 120 ms\n",
            "Wall time: 94.1 ms\n"
          ]
        }
      ]
    },
    {
      "cell_type": "markdown",
      "source": [
        "Fitting the model:"
      ],
      "metadata": {
        "id": "v9iSyXgSm6Ji"
      }
    },
    {
      "cell_type": "code",
      "source": [
        "%%time\n",
        "history = model.fit(train_generator,\n",
        "                    validation_data=validation_generator,\n",
        "                    steps_per_epoch=150 // bs,\n",
        "                    epochs=50,\n",
        "                    validation_steps=50 // bs,\n",
        "                    verbose=2)\n"
      ],
      "metadata": {
        "id": "o7rr8Gqym9ua",
        "colab": {
          "base_uri": "https://localhost:8080/"
        },
        "outputId": "7a85f80e-ac08-4541-c270-1d79a5a6102f"
      },
      "execution_count": 40,
      "outputs": [
        {
          "output_type": "stream",
          "name": "stdout",
          "text": [
            "Epoch 1/50\n",
            "5/5 - 1s - loss: 0.0154 - acc: 0.9933 - val_loss: 1.4657 - val_acc: 0.8000 - 728ms/epoch - 146ms/step\n",
            "Epoch 2/50\n",
            "5/5 - 1s - loss: 0.0178 - acc: 0.9933 - val_loss: 2.7851 - val_acc: 0.7333 - 807ms/epoch - 161ms/step\n",
            "Epoch 3/50\n",
            "5/5 - 1s - loss: 0.0722 - acc: 0.9933 - val_loss: 2.7491 - val_acc: 0.7000 - 762ms/epoch - 152ms/step\n",
            "Epoch 4/50\n",
            "5/5 - 1s - loss: 0.1219 - acc: 0.9800 - val_loss: 2.3382 - val_acc: 0.6667 - 760ms/epoch - 152ms/step\n",
            "Epoch 5/50\n",
            "5/5 - 1s - loss: 0.0102 - acc: 0.9933 - val_loss: 1.4164 - val_acc: 0.7333 - 648ms/epoch - 130ms/step\n",
            "Epoch 6/50\n",
            "5/5 - 1s - loss: 0.0457 - acc: 0.9733 - val_loss: 1.2107 - val_acc: 0.7667 - 552ms/epoch - 110ms/step\n",
            "Epoch 7/50\n",
            "5/5 - 1s - loss: 0.0443 - acc: 0.9800 - val_loss: 1.5201 - val_acc: 0.6333 - 713ms/epoch - 143ms/step\n",
            "Epoch 8/50\n",
            "5/5 - 1s - loss: 0.0135 - acc: 0.9933 - val_loss: 1.2581 - val_acc: 0.6667 - 722ms/epoch - 144ms/step\n",
            "Epoch 9/50\n",
            "5/5 - 1s - loss: 0.0126 - acc: 0.9933 - val_loss: 2.5222 - val_acc: 0.6667 - 681ms/epoch - 136ms/step\n",
            "Epoch 10/50\n",
            "5/5 - 1s - loss: 0.0236 - acc: 0.9933 - val_loss: 1.4952 - val_acc: 0.8000 - 677ms/epoch - 135ms/step\n",
            "Epoch 11/50\n",
            "5/5 - 1s - loss: 0.0531 - acc: 0.9867 - val_loss: 2.2163 - val_acc: 0.7667 - 573ms/epoch - 115ms/step\n",
            "Epoch 12/50\n",
            "5/5 - 1s - loss: 0.0093 - acc: 1.0000 - val_loss: 0.8772 - val_acc: 0.8667 - 708ms/epoch - 142ms/step\n",
            "Epoch 13/50\n",
            "5/5 - 1s - loss: 0.0084 - acc: 1.0000 - val_loss: 0.6994 - val_acc: 0.9000 - 811ms/epoch - 162ms/step\n",
            "Epoch 14/50\n",
            "5/5 - 1s - loss: 0.0474 - acc: 0.9867 - val_loss: 2.5144 - val_acc: 0.7333 - 765ms/epoch - 153ms/step\n",
            "Epoch 15/50\n",
            "5/5 - 1s - loss: 0.0808 - acc: 0.9733 - val_loss: 2.1472 - val_acc: 0.7667 - 701ms/epoch - 140ms/step\n",
            "Epoch 16/50\n",
            "5/5 - 1s - loss: 0.0239 - acc: 0.9867 - val_loss: 3.2725 - val_acc: 0.6333 - 583ms/epoch - 117ms/step\n",
            "Epoch 17/50\n",
            "5/5 - 1s - loss: 0.0388 - acc: 0.9800 - val_loss: 2.2448 - val_acc: 0.8000 - 687ms/epoch - 137ms/step\n",
            "Epoch 18/50\n",
            "5/5 - 1s - loss: 0.0018 - acc: 1.0000 - val_loss: 2.4833 - val_acc: 0.7000 - 685ms/epoch - 137ms/step\n",
            "Epoch 19/50\n",
            "5/5 - 1s - loss: 0.0500 - acc: 0.9867 - val_loss: 1.7071 - val_acc: 0.8000 - 578ms/epoch - 116ms/step\n",
            "Epoch 20/50\n",
            "5/5 - 1s - loss: 0.0732 - acc: 0.9933 - val_loss: 0.6976 - val_acc: 0.8333 - 674ms/epoch - 135ms/step\n",
            "Epoch 21/50\n",
            "5/5 - 1s - loss: 0.0037 - acc: 1.0000 - val_loss: 3.4672 - val_acc: 0.6667 - 623ms/epoch - 125ms/step\n",
            "Epoch 22/50\n",
            "5/5 - 1s - loss: 0.0059 - acc: 1.0000 - val_loss: 1.1937 - val_acc: 0.7667 - 625ms/epoch - 125ms/step\n",
            "Epoch 23/50\n",
            "5/5 - 1s - loss: 0.0330 - acc: 0.9867 - val_loss: 1.5998 - val_acc: 0.6667 - 653ms/epoch - 131ms/step\n",
            "Epoch 24/50\n",
            "5/5 - 1s - loss: 0.0023 - acc: 1.0000 - val_loss: 0.5005 - val_acc: 0.9000 - 686ms/epoch - 137ms/step\n",
            "Epoch 25/50\n",
            "5/5 - 1s - loss: 0.0138 - acc: 0.9933 - val_loss: 1.7397 - val_acc: 0.7667 - 620ms/epoch - 124ms/step\n",
            "Epoch 26/50\n",
            "5/5 - 1s - loss: 0.0065 - acc: 1.0000 - val_loss: 2.8144 - val_acc: 0.6000 - 688ms/epoch - 138ms/step\n",
            "Epoch 27/50\n",
            "5/5 - 1s - loss: 0.0627 - acc: 0.9867 - val_loss: 0.6854 - val_acc: 0.8333 - 818ms/epoch - 164ms/step\n",
            "Epoch 28/50\n",
            "5/5 - 1s - loss: 0.0331 - acc: 0.9933 - val_loss: 1.6867 - val_acc: 0.7667 - 593ms/epoch - 119ms/step\n",
            "Epoch 29/50\n",
            "5/5 - 1s - loss: 0.0148 - acc: 0.9933 - val_loss: 1.3771 - val_acc: 0.7667 - 745ms/epoch - 149ms/step\n",
            "Epoch 30/50\n",
            "5/5 - 1s - loss: 0.0739 - acc: 0.9933 - val_loss: 1.2994 - val_acc: 0.7000 - 985ms/epoch - 197ms/step\n",
            "Epoch 31/50\n",
            "5/5 - 1s - loss: 0.0444 - acc: 0.9867 - val_loss: 1.6422 - val_acc: 0.7000 - 612ms/epoch - 122ms/step\n",
            "Epoch 32/50\n",
            "5/5 - 1s - loss: 0.0396 - acc: 0.9867 - val_loss: 1.3358 - val_acc: 0.8000 - 698ms/epoch - 140ms/step\n",
            "Epoch 33/50\n",
            "5/5 - 1s - loss: 0.1125 - acc: 0.9600 - val_loss: 1.5172 - val_acc: 0.7333 - 755ms/epoch - 151ms/step\n",
            "Epoch 34/50\n",
            "5/5 - 1s - loss: 0.0357 - acc: 0.9800 - val_loss: 1.2808 - val_acc: 0.7000 - 738ms/epoch - 148ms/step\n",
            "Epoch 35/50\n",
            "5/5 - 1s - loss: 0.0927 - acc: 0.9733 - val_loss: 1.8821 - val_acc: 0.7000 - 554ms/epoch - 111ms/step\n",
            "Epoch 36/50\n",
            "5/5 - 1s - loss: 0.0889 - acc: 0.9867 - val_loss: 1.8795 - val_acc: 0.7333 - 573ms/epoch - 115ms/step\n",
            "Epoch 37/50\n",
            "5/5 - 1s - loss: 0.0239 - acc: 0.9933 - val_loss: 1.7430 - val_acc: 0.7667 - 610ms/epoch - 122ms/step\n",
            "Epoch 38/50\n",
            "5/5 - 1s - loss: 0.0243 - acc: 0.9867 - val_loss: 1.1179 - val_acc: 0.8000 - 674ms/epoch - 135ms/step\n",
            "Epoch 39/50\n",
            "5/5 - 1s - loss: 0.1171 - acc: 0.9724 - val_loss: 2.1417 - val_acc: 0.7333 - 640ms/epoch - 128ms/step\n",
            "Epoch 40/50\n",
            "5/5 - 1s - loss: 0.0381 - acc: 0.9862 - val_loss: 1.9634 - val_acc: 0.6667 - 545ms/epoch - 109ms/step\n",
            "Epoch 41/50\n",
            "5/5 - 1s - loss: 0.1261 - acc: 0.9600 - val_loss: 1.3831 - val_acc: 0.7000 - 785ms/epoch - 157ms/step\n",
            "Epoch 42/50\n",
            "5/5 - 1s - loss: 0.0485 - acc: 0.9800 - val_loss: 1.9209 - val_acc: 0.7000 - 649ms/epoch - 130ms/step\n",
            "Epoch 43/50\n",
            "5/5 - 1s - loss: 0.0938 - acc: 0.9667 - val_loss: 1.1174 - val_acc: 0.8000 - 754ms/epoch - 151ms/step\n",
            "Epoch 44/50\n",
            "5/5 - 1s - loss: 0.0352 - acc: 0.9931 - val_loss: 1.5893 - val_acc: 0.7667 - 688ms/epoch - 138ms/step\n",
            "Epoch 45/50\n",
            "5/5 - 1s - loss: 0.0135 - acc: 1.0000 - val_loss: 0.8932 - val_acc: 0.8667 - 702ms/epoch - 140ms/step\n",
            "Epoch 46/50\n",
            "5/5 - 1s - loss: 0.0277 - acc: 0.9862 - val_loss: 1.1479 - val_acc: 0.8000 - 665ms/epoch - 133ms/step\n",
            "Epoch 47/50\n",
            "5/5 - 1s - loss: 0.1003 - acc: 0.9800 - val_loss: 1.9745 - val_acc: 0.7667 - 1s/epoch - 219ms/step\n",
            "Epoch 48/50\n",
            "5/5 - 1s - loss: 0.0374 - acc: 0.9867 - val_loss: 0.8858 - val_acc: 0.8333 - 702ms/epoch - 140ms/step\n",
            "Epoch 49/50\n",
            "5/5 - 1s - loss: 0.0197 - acc: 0.9933 - val_loss: 0.3816 - val_acc: 0.9000 - 740ms/epoch - 148ms/step\n",
            "Epoch 50/50\n",
            "5/5 - 1s - loss: 0.0033 - acc: 1.0000 - val_loss: 1.3340 - val_acc: 0.9000 - 635ms/epoch - 127ms/step\n",
            "CPU times: user 42.1 s, sys: 1.89 s, total: 44 s\n",
            "Wall time: 46.7 s\n"
          ]
        }
      ]
    },
    {
      "cell_type": "code",
      "source": [],
      "metadata": {
        "id": "7BpPKPUFTjmi"
      },
      "execution_count": null,
      "outputs": []
    },
    {
      "cell_type": "markdown",
      "source": [
        "Try with other parametrs!"
      ],
      "metadata": {
        "id": "CThiF3ALnMga"
      }
    },
    {
      "cell_type": "code",
      "source": [
        "model.save('Final_model_cnnV2.h5')"
      ],
      "metadata": {
        "id": "8sH7yfGenAfB"
      },
      "execution_count": 28,
      "outputs": []
    },
    {
      "cell_type": "code",
      "source": [
        "import pandas as pd\n",
        "lc = pd.DataFrame(history.history)\n",
        "lc"
      ],
      "metadata": {
        "id": "uPo1k7UdQ5ZF",
        "colab": {
          "base_uri": "https://localhost:8080/",
          "height": 1000
        },
        "outputId": "f8891512-2aa7-4452-ef76-0765494b8760"
      },
      "execution_count": 41,
      "outputs": [
        {
          "output_type": "execute_result",
          "data": {
            "text/plain": [
              "        loss       acc  val_loss   val_acc\n",
              "0   0.015408  0.993333  1.465670  0.800000\n",
              "1   0.017806  0.993333  2.785084  0.733333\n",
              "2   0.072203  0.993333  2.749067  0.700000\n",
              "3   0.121885  0.980000  2.338236  0.666667\n",
              "4   0.010229  0.993333  1.416377  0.733333\n",
              "5   0.045720  0.973333  1.210749  0.766667\n",
              "6   0.044259  0.980000  1.520129  0.633333\n",
              "7   0.013467  0.993333  1.258107  0.666667\n",
              "8   0.012558  0.993333  2.522230  0.666667\n",
              "9   0.023621  0.993333  1.495236  0.800000\n",
              "10  0.053086  0.986667  2.216279  0.766667\n",
              "11  0.009343  1.000000  0.877218  0.866667\n",
              "12  0.008441  1.000000  0.699425  0.900000\n",
              "13  0.047441  0.986667  2.514449  0.733333\n",
              "14  0.080846  0.973333  2.147180  0.766667\n",
              "15  0.023893  0.986667  3.272462  0.633333\n",
              "16  0.038762  0.980000  2.244842  0.800000\n",
              "17  0.001813  1.000000  2.483264  0.700000\n",
              "18  0.050024  0.986667  1.707066  0.800000\n",
              "19  0.073211  0.993333  0.697646  0.833333\n",
              "20  0.003653  1.000000  3.467177  0.666667\n",
              "21  0.005868  1.000000  1.193731  0.766667\n",
              "22  0.033041  0.986667  1.599834  0.666667\n",
              "23  0.002278  1.000000  0.500547  0.900000\n",
              "24  0.013829  0.993333  1.739723  0.766667\n",
              "25  0.006529  1.000000  2.814375  0.600000\n",
              "26  0.062746  0.986667  0.685356  0.833333\n",
              "27  0.033061  0.993333  1.686671  0.766667\n",
              "28  0.014796  0.993333  1.377135  0.766667\n",
              "29  0.073900  0.993333  1.299366  0.700000\n",
              "30  0.044410  0.986667  1.642223  0.700000\n",
              "31  0.039580  0.986667  1.335823  0.800000\n",
              "32  0.112476  0.960000  1.517212  0.733333\n",
              "33  0.035669  0.980000  1.280779  0.700000\n",
              "34  0.092668  0.973333  1.882109  0.700000\n",
              "35  0.088851  0.986667  1.879495  0.733333\n",
              "36  0.023914  0.993333  1.742977  0.766667\n",
              "37  0.024302  0.986667  1.117871  0.800000\n",
              "38  0.117052  0.972414  2.141669  0.733333\n",
              "39  0.038088  0.986207  1.963387  0.666667\n",
              "40  0.126132  0.960000  1.383117  0.700000\n",
              "41  0.048545  0.980000  1.920877  0.700000\n",
              "42  0.093785  0.966667  1.117424  0.800000\n",
              "43  0.035176  0.993103  1.589258  0.766667\n",
              "44  0.013514  1.000000  0.893248  0.866667\n",
              "45  0.027652  0.986207  1.147879  0.800000\n",
              "46  0.100339  0.980000  1.974458  0.766667\n",
              "47  0.037416  0.986667  0.885787  0.833333\n",
              "48  0.019732  0.993333  0.381643  0.900000\n",
              "49  0.003276  1.000000  1.334046  0.900000"
            ],
            "text/html": [
              "\n",
              "  <div id=\"df-0d732822-1e2a-40da-80c8-59f6d2f52eaa\">\n",
              "    <div class=\"colab-df-container\">\n",
              "      <div>\n",
              "<style scoped>\n",
              "    .dataframe tbody tr th:only-of-type {\n",
              "        vertical-align: middle;\n",
              "    }\n",
              "\n",
              "    .dataframe tbody tr th {\n",
              "        vertical-align: top;\n",
              "    }\n",
              "\n",
              "    .dataframe thead th {\n",
              "        text-align: right;\n",
              "    }\n",
              "</style>\n",
              "<table border=\"1\" class=\"dataframe\">\n",
              "  <thead>\n",
              "    <tr style=\"text-align: right;\">\n",
              "      <th></th>\n",
              "      <th>loss</th>\n",
              "      <th>acc</th>\n",
              "      <th>val_loss</th>\n",
              "      <th>val_acc</th>\n",
              "    </tr>\n",
              "  </thead>\n",
              "  <tbody>\n",
              "    <tr>\n",
              "      <th>0</th>\n",
              "      <td>0.015408</td>\n",
              "      <td>0.993333</td>\n",
              "      <td>1.465670</td>\n",
              "      <td>0.800000</td>\n",
              "    </tr>\n",
              "    <tr>\n",
              "      <th>1</th>\n",
              "      <td>0.017806</td>\n",
              "      <td>0.993333</td>\n",
              "      <td>2.785084</td>\n",
              "      <td>0.733333</td>\n",
              "    </tr>\n",
              "    <tr>\n",
              "      <th>2</th>\n",
              "      <td>0.072203</td>\n",
              "      <td>0.993333</td>\n",
              "      <td>2.749067</td>\n",
              "      <td>0.700000</td>\n",
              "    </tr>\n",
              "    <tr>\n",
              "      <th>3</th>\n",
              "      <td>0.121885</td>\n",
              "      <td>0.980000</td>\n",
              "      <td>2.338236</td>\n",
              "      <td>0.666667</td>\n",
              "    </tr>\n",
              "    <tr>\n",
              "      <th>4</th>\n",
              "      <td>0.010229</td>\n",
              "      <td>0.993333</td>\n",
              "      <td>1.416377</td>\n",
              "      <td>0.733333</td>\n",
              "    </tr>\n",
              "    <tr>\n",
              "      <th>5</th>\n",
              "      <td>0.045720</td>\n",
              "      <td>0.973333</td>\n",
              "      <td>1.210749</td>\n",
              "      <td>0.766667</td>\n",
              "    </tr>\n",
              "    <tr>\n",
              "      <th>6</th>\n",
              "      <td>0.044259</td>\n",
              "      <td>0.980000</td>\n",
              "      <td>1.520129</td>\n",
              "      <td>0.633333</td>\n",
              "    </tr>\n",
              "    <tr>\n",
              "      <th>7</th>\n",
              "      <td>0.013467</td>\n",
              "      <td>0.993333</td>\n",
              "      <td>1.258107</td>\n",
              "      <td>0.666667</td>\n",
              "    </tr>\n",
              "    <tr>\n",
              "      <th>8</th>\n",
              "      <td>0.012558</td>\n",
              "      <td>0.993333</td>\n",
              "      <td>2.522230</td>\n",
              "      <td>0.666667</td>\n",
              "    </tr>\n",
              "    <tr>\n",
              "      <th>9</th>\n",
              "      <td>0.023621</td>\n",
              "      <td>0.993333</td>\n",
              "      <td>1.495236</td>\n",
              "      <td>0.800000</td>\n",
              "    </tr>\n",
              "    <tr>\n",
              "      <th>10</th>\n",
              "      <td>0.053086</td>\n",
              "      <td>0.986667</td>\n",
              "      <td>2.216279</td>\n",
              "      <td>0.766667</td>\n",
              "    </tr>\n",
              "    <tr>\n",
              "      <th>11</th>\n",
              "      <td>0.009343</td>\n",
              "      <td>1.000000</td>\n",
              "      <td>0.877218</td>\n",
              "      <td>0.866667</td>\n",
              "    </tr>\n",
              "    <tr>\n",
              "      <th>12</th>\n",
              "      <td>0.008441</td>\n",
              "      <td>1.000000</td>\n",
              "      <td>0.699425</td>\n",
              "      <td>0.900000</td>\n",
              "    </tr>\n",
              "    <tr>\n",
              "      <th>13</th>\n",
              "      <td>0.047441</td>\n",
              "      <td>0.986667</td>\n",
              "      <td>2.514449</td>\n",
              "      <td>0.733333</td>\n",
              "    </tr>\n",
              "    <tr>\n",
              "      <th>14</th>\n",
              "      <td>0.080846</td>\n",
              "      <td>0.973333</td>\n",
              "      <td>2.147180</td>\n",
              "      <td>0.766667</td>\n",
              "    </tr>\n",
              "    <tr>\n",
              "      <th>15</th>\n",
              "      <td>0.023893</td>\n",
              "      <td>0.986667</td>\n",
              "      <td>3.272462</td>\n",
              "      <td>0.633333</td>\n",
              "    </tr>\n",
              "    <tr>\n",
              "      <th>16</th>\n",
              "      <td>0.038762</td>\n",
              "      <td>0.980000</td>\n",
              "      <td>2.244842</td>\n",
              "      <td>0.800000</td>\n",
              "    </tr>\n",
              "    <tr>\n",
              "      <th>17</th>\n",
              "      <td>0.001813</td>\n",
              "      <td>1.000000</td>\n",
              "      <td>2.483264</td>\n",
              "      <td>0.700000</td>\n",
              "    </tr>\n",
              "    <tr>\n",
              "      <th>18</th>\n",
              "      <td>0.050024</td>\n",
              "      <td>0.986667</td>\n",
              "      <td>1.707066</td>\n",
              "      <td>0.800000</td>\n",
              "    </tr>\n",
              "    <tr>\n",
              "      <th>19</th>\n",
              "      <td>0.073211</td>\n",
              "      <td>0.993333</td>\n",
              "      <td>0.697646</td>\n",
              "      <td>0.833333</td>\n",
              "    </tr>\n",
              "    <tr>\n",
              "      <th>20</th>\n",
              "      <td>0.003653</td>\n",
              "      <td>1.000000</td>\n",
              "      <td>3.467177</td>\n",
              "      <td>0.666667</td>\n",
              "    </tr>\n",
              "    <tr>\n",
              "      <th>21</th>\n",
              "      <td>0.005868</td>\n",
              "      <td>1.000000</td>\n",
              "      <td>1.193731</td>\n",
              "      <td>0.766667</td>\n",
              "    </tr>\n",
              "    <tr>\n",
              "      <th>22</th>\n",
              "      <td>0.033041</td>\n",
              "      <td>0.986667</td>\n",
              "      <td>1.599834</td>\n",
              "      <td>0.666667</td>\n",
              "    </tr>\n",
              "    <tr>\n",
              "      <th>23</th>\n",
              "      <td>0.002278</td>\n",
              "      <td>1.000000</td>\n",
              "      <td>0.500547</td>\n",
              "      <td>0.900000</td>\n",
              "    </tr>\n",
              "    <tr>\n",
              "      <th>24</th>\n",
              "      <td>0.013829</td>\n",
              "      <td>0.993333</td>\n",
              "      <td>1.739723</td>\n",
              "      <td>0.766667</td>\n",
              "    </tr>\n",
              "    <tr>\n",
              "      <th>25</th>\n",
              "      <td>0.006529</td>\n",
              "      <td>1.000000</td>\n",
              "      <td>2.814375</td>\n",
              "      <td>0.600000</td>\n",
              "    </tr>\n",
              "    <tr>\n",
              "      <th>26</th>\n",
              "      <td>0.062746</td>\n",
              "      <td>0.986667</td>\n",
              "      <td>0.685356</td>\n",
              "      <td>0.833333</td>\n",
              "    </tr>\n",
              "    <tr>\n",
              "      <th>27</th>\n",
              "      <td>0.033061</td>\n",
              "      <td>0.993333</td>\n",
              "      <td>1.686671</td>\n",
              "      <td>0.766667</td>\n",
              "    </tr>\n",
              "    <tr>\n",
              "      <th>28</th>\n",
              "      <td>0.014796</td>\n",
              "      <td>0.993333</td>\n",
              "      <td>1.377135</td>\n",
              "      <td>0.766667</td>\n",
              "    </tr>\n",
              "    <tr>\n",
              "      <th>29</th>\n",
              "      <td>0.073900</td>\n",
              "      <td>0.993333</td>\n",
              "      <td>1.299366</td>\n",
              "      <td>0.700000</td>\n",
              "    </tr>\n",
              "    <tr>\n",
              "      <th>30</th>\n",
              "      <td>0.044410</td>\n",
              "      <td>0.986667</td>\n",
              "      <td>1.642223</td>\n",
              "      <td>0.700000</td>\n",
              "    </tr>\n",
              "    <tr>\n",
              "      <th>31</th>\n",
              "      <td>0.039580</td>\n",
              "      <td>0.986667</td>\n",
              "      <td>1.335823</td>\n",
              "      <td>0.800000</td>\n",
              "    </tr>\n",
              "    <tr>\n",
              "      <th>32</th>\n",
              "      <td>0.112476</td>\n",
              "      <td>0.960000</td>\n",
              "      <td>1.517212</td>\n",
              "      <td>0.733333</td>\n",
              "    </tr>\n",
              "    <tr>\n",
              "      <th>33</th>\n",
              "      <td>0.035669</td>\n",
              "      <td>0.980000</td>\n",
              "      <td>1.280779</td>\n",
              "      <td>0.700000</td>\n",
              "    </tr>\n",
              "    <tr>\n",
              "      <th>34</th>\n",
              "      <td>0.092668</td>\n",
              "      <td>0.973333</td>\n",
              "      <td>1.882109</td>\n",
              "      <td>0.700000</td>\n",
              "    </tr>\n",
              "    <tr>\n",
              "      <th>35</th>\n",
              "      <td>0.088851</td>\n",
              "      <td>0.986667</td>\n",
              "      <td>1.879495</td>\n",
              "      <td>0.733333</td>\n",
              "    </tr>\n",
              "    <tr>\n",
              "      <th>36</th>\n",
              "      <td>0.023914</td>\n",
              "      <td>0.993333</td>\n",
              "      <td>1.742977</td>\n",
              "      <td>0.766667</td>\n",
              "    </tr>\n",
              "    <tr>\n",
              "      <th>37</th>\n",
              "      <td>0.024302</td>\n",
              "      <td>0.986667</td>\n",
              "      <td>1.117871</td>\n",
              "      <td>0.800000</td>\n",
              "    </tr>\n",
              "    <tr>\n",
              "      <th>38</th>\n",
              "      <td>0.117052</td>\n",
              "      <td>0.972414</td>\n",
              "      <td>2.141669</td>\n",
              "      <td>0.733333</td>\n",
              "    </tr>\n",
              "    <tr>\n",
              "      <th>39</th>\n",
              "      <td>0.038088</td>\n",
              "      <td>0.986207</td>\n",
              "      <td>1.963387</td>\n",
              "      <td>0.666667</td>\n",
              "    </tr>\n",
              "    <tr>\n",
              "      <th>40</th>\n",
              "      <td>0.126132</td>\n",
              "      <td>0.960000</td>\n",
              "      <td>1.383117</td>\n",
              "      <td>0.700000</td>\n",
              "    </tr>\n",
              "    <tr>\n",
              "      <th>41</th>\n",
              "      <td>0.048545</td>\n",
              "      <td>0.980000</td>\n",
              "      <td>1.920877</td>\n",
              "      <td>0.700000</td>\n",
              "    </tr>\n",
              "    <tr>\n",
              "      <th>42</th>\n",
              "      <td>0.093785</td>\n",
              "      <td>0.966667</td>\n",
              "      <td>1.117424</td>\n",
              "      <td>0.800000</td>\n",
              "    </tr>\n",
              "    <tr>\n",
              "      <th>43</th>\n",
              "      <td>0.035176</td>\n",
              "      <td>0.993103</td>\n",
              "      <td>1.589258</td>\n",
              "      <td>0.766667</td>\n",
              "    </tr>\n",
              "    <tr>\n",
              "      <th>44</th>\n",
              "      <td>0.013514</td>\n",
              "      <td>1.000000</td>\n",
              "      <td>0.893248</td>\n",
              "      <td>0.866667</td>\n",
              "    </tr>\n",
              "    <tr>\n",
              "      <th>45</th>\n",
              "      <td>0.027652</td>\n",
              "      <td>0.986207</td>\n",
              "      <td>1.147879</td>\n",
              "      <td>0.800000</td>\n",
              "    </tr>\n",
              "    <tr>\n",
              "      <th>46</th>\n",
              "      <td>0.100339</td>\n",
              "      <td>0.980000</td>\n",
              "      <td>1.974458</td>\n",
              "      <td>0.766667</td>\n",
              "    </tr>\n",
              "    <tr>\n",
              "      <th>47</th>\n",
              "      <td>0.037416</td>\n",
              "      <td>0.986667</td>\n",
              "      <td>0.885787</td>\n",
              "      <td>0.833333</td>\n",
              "    </tr>\n",
              "    <tr>\n",
              "      <th>48</th>\n",
              "      <td>0.019732</td>\n",
              "      <td>0.993333</td>\n",
              "      <td>0.381643</td>\n",
              "      <td>0.900000</td>\n",
              "    </tr>\n",
              "    <tr>\n",
              "      <th>49</th>\n",
              "      <td>0.003276</td>\n",
              "      <td>1.000000</td>\n",
              "      <td>1.334046</td>\n",
              "      <td>0.900000</td>\n",
              "    </tr>\n",
              "  </tbody>\n",
              "</table>\n",
              "</div>\n",
              "      <button class=\"colab-df-convert\" onclick=\"convertToInteractive('df-0d732822-1e2a-40da-80c8-59f6d2f52eaa')\"\n",
              "              title=\"Convert this dataframe to an interactive table.\"\n",
              "              style=\"display:none;\">\n",
              "        \n",
              "  <svg xmlns=\"http://www.w3.org/2000/svg\" height=\"24px\"viewBox=\"0 0 24 24\"\n",
              "       width=\"24px\">\n",
              "    <path d=\"M0 0h24v24H0V0z\" fill=\"none\"/>\n",
              "    <path d=\"M18.56 5.44l.94 2.06.94-2.06 2.06-.94-2.06-.94-.94-2.06-.94 2.06-2.06.94zm-11 1L8.5 8.5l.94-2.06 2.06-.94-2.06-.94L8.5 2.5l-.94 2.06-2.06.94zm10 10l.94 2.06.94-2.06 2.06-.94-2.06-.94-.94-2.06-.94 2.06-2.06.94z\"/><path d=\"M17.41 7.96l-1.37-1.37c-.4-.4-.92-.59-1.43-.59-.52 0-1.04.2-1.43.59L10.3 9.45l-7.72 7.72c-.78.78-.78 2.05 0 2.83L4 21.41c.39.39.9.59 1.41.59.51 0 1.02-.2 1.41-.59l7.78-7.78 2.81-2.81c.8-.78.8-2.07 0-2.86zM5.41 20L4 18.59l7.72-7.72 1.47 1.35L5.41 20z\"/>\n",
              "  </svg>\n",
              "      </button>\n",
              "      \n",
              "  <style>\n",
              "    .colab-df-container {\n",
              "      display:flex;\n",
              "      flex-wrap:wrap;\n",
              "      gap: 12px;\n",
              "    }\n",
              "\n",
              "    .colab-df-convert {\n",
              "      background-color: #E8F0FE;\n",
              "      border: none;\n",
              "      border-radius: 50%;\n",
              "      cursor: pointer;\n",
              "      display: none;\n",
              "      fill: #1967D2;\n",
              "      height: 32px;\n",
              "      padding: 0 0 0 0;\n",
              "      width: 32px;\n",
              "    }\n",
              "\n",
              "    .colab-df-convert:hover {\n",
              "      background-color: #E2EBFA;\n",
              "      box-shadow: 0px 1px 2px rgba(60, 64, 67, 0.3), 0px 1px 3px 1px rgba(60, 64, 67, 0.15);\n",
              "      fill: #174EA6;\n",
              "    }\n",
              "\n",
              "    [theme=dark] .colab-df-convert {\n",
              "      background-color: #3B4455;\n",
              "      fill: #D2E3FC;\n",
              "    }\n",
              "\n",
              "    [theme=dark] .colab-df-convert:hover {\n",
              "      background-color: #434B5C;\n",
              "      box-shadow: 0px 1px 3px 1px rgba(0, 0, 0, 0.15);\n",
              "      filter: drop-shadow(0px 1px 2px rgba(0, 0, 0, 0.3));\n",
              "      fill: #FFFFFF;\n",
              "    }\n",
              "  </style>\n",
              "\n",
              "      <script>\n",
              "        const buttonEl =\n",
              "          document.querySelector('#df-0d732822-1e2a-40da-80c8-59f6d2f52eaa button.colab-df-convert');\n",
              "        buttonEl.style.display =\n",
              "          google.colab.kernel.accessAllowed ? 'block' : 'none';\n",
              "\n",
              "        async function convertToInteractive(key) {\n",
              "          const element = document.querySelector('#df-0d732822-1e2a-40da-80c8-59f6d2f52eaa');\n",
              "          const dataTable =\n",
              "            await google.colab.kernel.invokeFunction('convertToInteractive',\n",
              "                                                     [key], {});\n",
              "          if (!dataTable) return;\n",
              "\n",
              "          const docLinkHtml = 'Like what you see? Visit the ' +\n",
              "            '<a target=\"_blank\" href=https://colab.research.google.com/notebooks/data_table.ipynb>data table notebook</a>'\n",
              "            + ' to learn more about interactive tables.';\n",
              "          element.innerHTML = '';\n",
              "          dataTable['output_type'] = 'display_data';\n",
              "          await google.colab.output.renderOutput(dataTable, element);\n",
              "          const docLink = document.createElement('div');\n",
              "          docLink.innerHTML = docLinkHtml;\n",
              "          element.appendChild(docLink);\n",
              "        }\n",
              "      </script>\n",
              "    </div>\n",
              "  </div>\n",
              "  "
            ]
          },
          "metadata": {},
          "execution_count": 41
        }
      ]
    },
    {
      "cell_type": "code",
      "source": [
        "lc.plot(figsize=(8,5))\n",
        "plt.title(\"Learning Curve\")\n",
        "plt.grid()"
      ],
      "metadata": {
        "id": "r4WjD5AUQ-6E",
        "colab": {
          "base_uri": "https://localhost:8080/",
          "height": 336
        },
        "outputId": "680d7bf7-4418-4e42-9e3c-ed70398dd222"
      },
      "execution_count": 42,
      "outputs": [
        {
          "output_type": "display_data",
          "data": {
            "text/plain": [
              "<Figure size 576x360 with 1 Axes>"
            ],
            "image/png": "[encoded data removed]"
          },
          "metadata": {
            "needs_background": "light"
          }
        }
      ]
    }
  ]
}
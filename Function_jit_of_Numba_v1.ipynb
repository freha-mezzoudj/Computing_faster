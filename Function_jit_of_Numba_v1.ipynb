{
  "nbformat": 4,
  "nbformat_minor": 0,
  "metadata": {
    "colab": {
      "provenance": [],
      "authorship_tag": "ABX9TyMZdsApwDf2uisgxTIbeisa",
      "include_colab_link": true
    },
    "kernelspec": {
      "name": "python3",
      "display_name": "Python 3"
    },
    "language_info": {
      "name": "python"
    }
  },
  "cells": [
    {
      "cell_type": "markdown",
      "metadata": {
        "id": "view-in-github",
        "colab_type": "text"
      },
      "source": [
        "<a href=\"https://colab.research.google.com/github/freha-mezzoudj/Fast-Computation/blob/main/Function_jit_of_Numba_v1.ipynb\" target=\"_parent\"><img src=\"https://colab.research.google.com/assets/colab-badge.svg\" alt=\"Open In Colab\"/></a>"
      ]
    },
    {
      "cell_type": "markdown",
      "source": [
        "The jit of Numba help to do fast execution of the following function! "
      ],
      "metadata": {
        "id": "yhatVH25L0Xp"
      }
    },
    {
      "cell_type": "code",
      "source": [
        "!pip install numba"
      ],
      "metadata": {
        "colab": {
          "base_uri": "https://localhost:8080/"
        },
        "id": "MPTLmip-qg4f",
        "outputId": "84f3fc3b-12a5-4dd5-84ab-be1837763ec4"
      },
      "execution_count": 1,
      "outputs": [
        {
          "output_type": "stream",
          "name": "stdout",
          "text": [
            "Looking in indexes: https://pypi.org/simple, https://us-python.pkg.dev/colab-wheels/public/simple/\n",
            "Requirement already satisfied: numba in /usr/local/lib/python3.8/dist-packages (0.56.4)\n",
            "Requirement already satisfied: importlib-metadata in /usr/local/lib/python3.8/dist-packages (from numba) (4.13.0)\n",
            "Requirement already satisfied: numpy<1.24,>=1.18 in /usr/local/lib/python3.8/dist-packages (from numba) (1.21.6)\n",
            "Requirement already satisfied: setuptools in /usr/local/lib/python3.8/dist-packages (from numba) (57.4.0)\n",
            "Requirement already satisfied: llvmlite<0.40,>=0.39.0dev0 in /usr/local/lib/python3.8/dist-packages (from numba) (0.39.1)\n",
            "Requirement already satisfied: zipp>=0.5 in /usr/local/lib/python3.8/dist-packages (from importlib-metadata->numba) (3.11.0)\n"
          ]
        }
      ]
    },
    {
      "cell_type": "code",
      "source": [
        "!pip install numpy"
      ],
      "metadata": {
        "colab": {
          "base_uri": "https://localhost:8080/"
        },
        "id": "w4cpZlzBr_MZ",
        "outputId": "65319bdc-43e3-43d6-b437-a2a558f94b8b"
      },
      "execution_count": 4,
      "outputs": [
        {
          "output_type": "stream",
          "name": "stdout",
          "text": [
            "Looking in indexes: https://pypi.org/simple, https://us-python.pkg.dev/colab-wheels/public/simple/\n",
            "Requirement already satisfied: numpy in /usr/local/lib/python3.8/dist-packages (1.21.6)\n"
          ]
        }
      ]
    },
    {
      "cell_type": "code",
      "source": [
        "from numba import jit\n",
        "import numpy as np\n",
        "import time"
      ],
      "metadata": {
        "id": "_K6aiMnDraL2"
      },
      "execution_count": 6,
      "outputs": []
    },
    {
      "cell_type": "markdown",
      "source": [
        "numba is a just-in-time compiler for Python that work best on code that uses Numpy arrays, functions and loops. The commun way to use numba is using a numba decorated function to run the code at native machine code speed.\n",
        "\n",
        "Thanks to Krish Naik: https://www.youtube.com/watch?v=3O-Pvnrbsu0"
      ],
      "metadata": {
        "id": "yd88IvxZrgCi"
      }
    },
    {
      "cell_type": "markdown",
      "source": [
        "Using jit, the compilation of the function is done and saved; for the other times, we will use only the compiled version!"
      ],
      "metadata": {
        "id": "PO5qRsyHrssd"
      }
    },
    {
      "cell_type": "code",
      "source": [
        "x = np.arange(100).reshape(10, 10)\n",
        "\n",
        "@jit(nopython=True)\n",
        "def go_fast(a):  # Function is comp\n",
        "    trace = 0.0\n",
        "    for i in range(a.shape[0]):\n",
        "        trace += np.tanh(a[i, i])\n",
        "    return a + trace"
      ],
      "metadata": {
        "id": "AE99x68iPhJl"
      },
      "execution_count": 8,
      "outputs": []
    },
    {
      "cell_type": "code",
      "source": [
        "# do not report this: compilation time is included in the execution time!\n",
        "start = time.time()\n",
        "go_fast(x)\n",
        "end = time.time()\n",
        "print(\"Elapsed (compilaion and execution) = %s\" % (end - start))"
      ],
      "metadata": {
        "colab": {
          "base_uri": "https://localhost:8080/"
        },
        "id": "Gqc_2cqo0gvB",
        "outputId": "819652cd-1176-4ba7-94bf-ac19d8d75480"
      },
      "execution_count": 9,
      "outputs": [
        {
          "output_type": "stream",
          "name": "stdout",
          "text": [
            "Elapsed (compilaion and execution) = 0.23662996292114258\n"
          ]
        }
      ]
    },
    {
      "cell_type": "code",
      "source": [
        "# do not report this: compilation time is included in the execution time!\n",
        "start = time.time()\n",
        "go_fast(x)\n",
        "end = time.time()\n",
        "print(\"Elapsed (after compilaion and only execution) = %s\" % (end - start))"
      ],
      "metadata": {
        "colab": {
          "base_uri": "https://localhost:8080/"
        },
        "id": "Rk63AjB30xWZ",
        "outputId": "a59830d7-358a-4afb-c6ce-099664aec915"
      },
      "execution_count": 10,
      "outputs": [
        {
          "output_type": "stream",
          "name": "stdout",
          "text": [
            "Elapsed (after compilaion and only execution) = 0.00010657310485839844\n"
          ]
        }
      ]
    },
    {
      "cell_type": "markdown",
      "source": [
        "* Compilation and execution : **0.\n",
        "23662996292114258** \n",
        "\n",
        "* vs. Only execution: **0.00010657310485839844**"
      ],
      "metadata": {
        "id": "sdkOR3skPgTm"
      }
    }
  ]
}
{
  "nbformat": 4,
  "nbformat_minor": 0,
  "metadata": {
    "colab": {
      "provenance": [],
      "include_colab_link": true
    },
    "kernelspec": {
      "name": "python3",
      "display_name": "Python 3"
    },
    "accelerator": "GPU"
  },
  "cells": [
    {
      "cell_type": "markdown",
      "metadata": {
        "id": "view-in-github",
        "colab_type": "text"
      },
      "source": [
        "<a href=\"https://colab.research.google.com/github/freha-mezzoudj/Fast-Computation/blob/main/Copie_de_Matrix_multiplication_with_pytorch.ipynb\" target=\"_parent\"><img src=\"https://colab.research.google.com/assets/colab-badge.svg\" alt=\"Open In Colab\"/></a>"
      ]
    },
    {
      "cell_type": "markdown",
      "metadata": {
        "id": "AZGvm11Lkak5"
      },
      "source": [
        "# Import Packages\n",
        "\n",
        "Change your google colab runtime into using GPU.\n",
        "\n",
        "I refer first part of this article to know how using free GPU in google colab: [Google Colab Free GPU Tutorial](https://medium.com/deep-learning-turkey/google-colab-free-gpu-tutorial-e113627b9f5d)\n",
        "\n",
        "\n"
      ]
    },
    {
      "cell_type": "code",
      "metadata": {
        "id": "-Gjyd7qUjyic"
      },
      "source": [
        "import numpy as np \n",
        "import torch"
      ],
      "execution_count": null,
      "outputs": []
    },
    {
      "cell_type": "code",
      "metadata": {
        "id": "5qvu3U6OkRGu",
        "outputId": "28c8273a-29a2-4a0b-c9bd-5d624a24a8b9",
        "colab": {
          "base_uri": "https://localhost:8080/",
          "height": 50
        }
      },
      "source": [
        "%%time\n",
        "a = np.random.randn(1000,1000)\n",
        "result = np.matmul(a,a)\n",
        "del a, result"
      ],
      "execution_count": null,
      "outputs": [
        {
          "output_type": "stream",
          "text": [
            "CPU times: user 148 ms, sys: 12.3 ms, total: 161 ms\n",
            "Wall time: 111 ms\n"
          ],
          "name": "stdout"
        }
      ]
    },
    {
      "cell_type": "code",
      "metadata": {
        "id": "AWMJ_h6EklKl",
        "outputId": "e72b9387-cd3c-4664-e6b2-3e70d3c76345",
        "colab": {
          "base_uri": "https://localhost:8080/",
          "height": 50
        }
      },
      "source": [
        "%%time\n",
        "z = torch.randn(1000,1000)\n",
        "result = torch.matmul(z,z)\n",
        "del z, result"
      ],
      "execution_count": null,
      "outputs": [
        {
          "output_type": "stream",
          "text": [
            "CPU times: user 57.1 ms, sys: 73.7 ms, total: 131 ms\n",
            "Wall time: 148 ms\n"
          ],
          "name": "stdout"
        }
      ]
    },
    {
      "cell_type": "code",
      "metadata": {
        "id": "i1KEnA4lkiOk",
        "outputId": "fa9812c0-08c8-4742-9cab-ce609792c75d",
        "colab": {
          "base_uri": "https://localhost:8080/",
          "height": 50
        }
      },
      "source": [
        "%%time\n",
        "b = np.random.randn(10000,10000)\n",
        "result = np.matmul(b,b)\n",
        "del b, result"
      ],
      "execution_count": null,
      "outputs": [
        {
          "output_type": "stream",
          "text": [
            "CPU times: user 1min 48s, sys: 686 ms, total: 1min 48s\n",
            "Wall time: 57.2 s\n"
          ],
          "name": "stdout"
        }
      ]
    },
    {
      "cell_type": "code",
      "metadata": {
        "id": "g_b7A6w6kmg-",
        "outputId": "6ac7daf2-9f6e-40f6-e1c4-f08e414ea8ed",
        "colab": {
          "base_uri": "https://localhost:8080/",
          "height": 50
        }
      },
      "source": [
        "%%time\n",
        "y = torch.randn(10000,10000)\n",
        "result = torch.matmul(y,y)\n",
        "del y, result"
      ],
      "execution_count": null,
      "outputs": [
        {
          "output_type": "stream",
          "text": [
            "CPU times: user 26.5 s, sys: 74.2 ms, total: 26.5 s\n",
            "Wall time: 26.5 s\n"
          ],
          "name": "stdout"
        }
      ]
    },
    {
      "cell_type": "code",
      "metadata": {
        "id": "i4kLY8kZkuMh",
        "outputId": "86ec7f6a-865e-4174-98d1-a495c5ca520b",
        "colab": {
          "base_uri": "https://localhost:8080/",
          "height": 50
        }
      },
      "source": [
        "%%time\n",
        "x = torch.randn(10000,10000).cuda()\n",
        "result = torch.matmul(x,x)\n",
        "del x, result"
      ],
      "execution_count": null,
      "outputs": [
        {
          "output_type": "stream",
          "text": [
            "CPU times: user 3.78 s, sys: 960 ms, total: 4.74 s\n",
            "Wall time: 10.6 s\n"
          ],
          "name": "stdout"
        }
      ]
    },
    {
      "cell_type": "code",
      "metadata": {
        "id": "jgY0Xo8dkvtS",
        "outputId": "04306099-10af-4887-925f-8d30a32e276c",
        "colab": {
          "base_uri": "https://localhost:8080/",
          "height": 50
        }
      },
      "source": [
        "%%time\n",
        "w = torch.randn(10000,10000).cuda()\n",
        "result = torch.matmul(w,w)\n",
        "del w, result\n"
      ],
      "execution_count": null,
      "outputs": [
        {
          "output_type": "stream",
          "text": [
            "CPU times: user 802 ms, sys: 1.98 ms, total: 804 ms\n",
            "Wall time: 814 ms\n"
          ],
          "name": "stdout"
        }
      ]
    },
    {
      "cell_type": "code",
      "metadata": {
        "id": "OOzxnj_xQMSd",
        "colab": {
          "base_uri": "https://localhost:8080/",
          "height": 50
        },
        "outputId": "86968350-2f5c-4ae8-8ed9-cf42110076e2"
      },
      "source": [
        "%%time\n",
        "v = torch.randn(20000,20000).cuda()\n",
        "result = torch.matmul(v,v)\n",
        "del v, result\n"
      ],
      "execution_count": null,
      "outputs": [
        {
          "output_type": "stream",
          "text": [
            "CPU times: user 3.12 s, sys: 650 ms, total: 3.77 s\n",
            "Wall time: 3.77 s\n"
          ],
          "name": "stdout"
        }
      ]
    },
    {
      "cell_type": "code",
      "metadata": {
        "id": "VbjA6P9xQuaW",
        "colab": {
          "base_uri": "https://localhost:8080/",
          "height": 50
        },
        "outputId": "01cbf56f-dc59-4b0e-d0c1-5ab026c024f3"
      },
      "source": [
        "%%time\n",
        "v = torch.randn(30000,30000).cuda()\n",
        "result = torch.matmul(v,v)\n",
        "del v, result"
      ],
      "execution_count": null,
      "outputs": [
        {
          "output_type": "stream",
          "text": [
            "CPU times: user 7.2 s, sys: 1.38 s, total: 8.58 s\n",
            "Wall time: 8.6 s\n"
          ],
          "name": "stdout"
        }
      ]
    },
    {
      "cell_type": "code",
      "metadata": {
        "id": "VYE9tAuHRuKe",
        "colab": {
          "base_uri": "https://localhost:8080/",
          "height": 50
        },
        "outputId": "5ed6ec9d-2560-4147-f027-6bb2c17eba4e"
      },
      "source": [
        "%%time\n",
        "v = torch.randn(40000,40000).cuda()\n",
        "result = torch.matmul(v,v)\n",
        "del v, result"
      ],
      "execution_count": null,
      "outputs": [
        {
          "output_type": "stream",
          "text": [
            "CPU times: user 12.8 s, sys: 2.65 s, total: 15.5 s\n",
            "Wall time: 15.9 s\n"
          ],
          "name": "stdout"
        }
      ]
    },
    {
      "cell_type": "code",
      "metadata": {
        "id": "QE1zT5XxRyh3"
      },
      "source": [],
      "execution_count": null,
      "outputs": []
    }
  ]
}
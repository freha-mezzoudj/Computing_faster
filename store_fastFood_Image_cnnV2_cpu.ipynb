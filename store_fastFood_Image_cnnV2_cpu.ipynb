{
  "nbformat": 4,
  "nbformat_minor": 0,
  "metadata": {
    "colab": {
      "provenance": [],
      "authorship_tag": "ABX9TyOflxkdIlJe0TlKjWlzs8vN",
      "include_colab_link": true
    },
    "kernelspec": {
      "name": "python3",
      "display_name": "Python 3"
    },
    "language_info": {
      "name": "python"
    }
  },
  "cells": [
    {
      "cell_type": "markdown",
      "metadata": {
        "id": "view-in-github",
        "colab_type": "text"
      },
      "source": [
        "<a href=\"https://colab.research.google.com/github/freha-mezzoudj/Fast-Computation/blob/main/store_fastFood_Image_cnnV2_cpu.ipynb\" target=\"_parent\"><img src=\"https://colab.research.google.com/assets/colab-badge.svg\" alt=\"Open In Colab\"/></a>"
      ]
    },
    {
      "cell_type": "code",
      "execution_count": 3,
      "metadata": {
        "colab": {
          "base_uri": "https://localhost:8080/"
        },
        "id": "KhuoeZrfw6l2",
        "outputId": "816244bd-b36d-4743-f6b6-3a928376a07f"
      },
      "outputs": [
        {
          "output_type": "stream",
          "name": "stdout",
          "text": [
            "Done\n"
          ]
        }
      ],
      "source": [
        "from zipfile import ZipFile\n",
        "file_name = \"logoDataFastFood.zip\"\n",
        "\n",
        "with ZipFile(file_name, 'r') as zip:\n",
        "  zip.extractall()\n",
        "  print('Done')"
      ]
    },
    {
      "cell_type": "code",
      "execution_count": 4,
      "metadata": {
        "id": "2qmpyNozjvcC"
      },
      "outputs": [],
      "source": [
        "import numpy as np\n",
        "%matplotlib inline\n",
        "import matplotlib.image as mpimg\n",
        "import matplotlib.pyplot as plt\n",
        "import tensorflow as tf\n",
        "tf.compat.v1.set_random_seed(2019) \n",
        "import time"
      ]
    },
    {
      "cell_type": "code",
      "source": [
        "!pip install ipython ipython-autotime"
      ],
      "metadata": {
        "id": "0_B7tpwW92FQ",
        "colab": {
          "base_uri": "https://localhost:8080/"
        },
        "outputId": "1da7b211-96ad-4f28-b1e2-c16b872bcfa4"
      },
      "execution_count": 5,
      "outputs": [
        {
          "output_type": "stream",
          "name": "stdout",
          "text": [
            "Looking in indexes: https://pypi.org/simple, https://us-python.pkg.dev/colab-wheels/public/simple/\n",
            "Requirement already satisfied: ipython in /usr/local/lib/python3.8/dist-packages (7.9.0)\n",
            "Collecting ipython-autotime\n",
            "  Downloading ipython_autotime-0.3.1-py2.py3-none-any.whl (6.8 kB)\n",
            "Requirement already satisfied: decorator in /usr/local/lib/python3.8/dist-packages (from ipython) (4.4.2)\n",
            "Requirement already satisfied: prompt-toolkit<2.1.0,>=2.0.0 in /usr/local/lib/python3.8/dist-packages (from ipython) (2.0.10)\n",
            "Collecting jedi>=0.10\n",
            "  Downloading jedi-0.18.2-py2.py3-none-any.whl (1.6 MB)\n",
            "\u001b[K     |████████████████████████████████| 1.6 MB 5.2 MB/s \n",
            "\u001b[?25hRequirement already satisfied: pexpect in /usr/local/lib/python3.8/dist-packages (from ipython) (4.8.0)\n",
            "Requirement already satisfied: pygments in /usr/local/lib/python3.8/dist-packages (from ipython) (2.6.1)\n",
            "Requirement already satisfied: setuptools>=18.5 in /usr/local/lib/python3.8/dist-packages (from ipython) (57.4.0)\n",
            "Requirement already satisfied: traitlets>=4.2 in /usr/local/lib/python3.8/dist-packages (from ipython) (5.6.0)\n",
            "Requirement already satisfied: pickleshare in /usr/local/lib/python3.8/dist-packages (from ipython) (0.7.5)\n",
            "Requirement already satisfied: backcall in /usr/local/lib/python3.8/dist-packages (from ipython) (0.2.0)\n",
            "Requirement already satisfied: parso<0.9.0,>=0.8.0 in /usr/local/lib/python3.8/dist-packages (from jedi>=0.10->ipython) (0.8.3)\n",
            "Requirement already satisfied: wcwidth in /usr/local/lib/python3.8/dist-packages (from prompt-toolkit<2.1.0,>=2.0.0->ipython) (0.2.5)\n",
            "Requirement already satisfied: six>=1.9.0 in /usr/local/lib/python3.8/dist-packages (from prompt-toolkit<2.1.0,>=2.0.0->ipython) (1.15.0)\n",
            "Requirement already satisfied: ptyprocess>=0.5 in /usr/local/lib/python3.8/dist-packages (from pexpect->ipython) (0.7.0)\n",
            "Installing collected packages: jedi, ipython-autotime\n",
            "Successfully installed ipython-autotime-0.3.1 jedi-0.18.2\n"
          ]
        }
      ]
    },
    {
      "cell_type": "markdown",
      "source": [],
      "metadata": {
        "id": "UBL_pTElXJX5"
      }
    },
    {
      "cell_type": "code",
      "source": [
        "%load_ext autotime"
      ],
      "metadata": {
        "id": "rKH0ve1bXBfo"
      },
      "execution_count": null,
      "outputs": []
    },
    {
      "cell_type": "markdown",
      "source": [
        "#Classification Code \n",
        "\n",
        "https://github.com/chetanstpt/Fast-food-Image-detection/blob/main/FastFoodStore_Classification_CNN_Final%20(1).ipynb"
      ],
      "metadata": {
        "id": "2U7HtPv0j6Mk"
      }
    },
    {
      "cell_type": "markdown",
      "source": [],
      "metadata": {
        "id": "BsJf0xy8qzhB"
      }
    },
    {
      "cell_type": "markdown",
      "source": [
        "#CNN Model"
      ],
      "metadata": {
        "id": "Uf2H7DjZlJyS"
      }
    },
    {
      "cell_type": "code",
      "source": [
        "model = tf.keras.models.Sequential([\n",
        "    tf.keras.layers.Conv2D(16,(3,3),activation = \"relu\" , input_shape = (180,180,3)) ,\n",
        "    tf.keras.layers.MaxPooling2D(2,2),\n",
        "    tf.keras.layers.Conv2D(32,(3,3),activation = \"relu\") ,  \n",
        "    tf.keras.layers.MaxPooling2D(2,2),\n",
        "    tf.keras.layers.Conv2D(64,(3,3),activation = \"relu\") ,  \n",
        "    tf.keras.layers.MaxPooling2D(2,2),\n",
        "    tf.keras.layers.Conv2D(128,(3,3),activation = \"relu\"),  \n",
        "    tf.keras.layers.MaxPooling2D(2,2),\n",
        "    \n",
        "    tf.keras.layers.Flatten(), # Flattening transforms a two-dimensional matrix of features into a vector of features           \n",
        "    \n",
        "    tf.keras.layers.Dense(550,activation=\"relu\"), #Adding the Hidden layer\n",
        "    tf.keras.layers.Dropout(0.1,seed = 2019),\n",
        "    tf.keras.layers.Dense(400,activation =\"relu\"),\n",
        "    tf.keras.layers.Dropout(0.3,seed = 2019),\n",
        "    tf.keras.layers.Dense(300,activation=\"relu\"),\n",
        "    tf.keras.layers.Dropout(0.4,seed = 2019),\n",
        "    tf.keras.layers.Dense(200,activation =\"relu\"),\n",
        "    tf.keras.layers.Dropout(0.2,seed = 2019),\n",
        "    tf.keras.layers.Dense(5,activation = \"softmax\") #Adding the Output Layer\n",
        "])\n"
      ],
      "metadata": {
        "id": "SRmy3QEvkDYL"
      },
      "execution_count": 6,
      "outputs": []
    },
    {
      "cell_type": "code",
      "source": [
        "%unload_ext autotime"
      ],
      "metadata": {
        "id": "MP0eBPyyvpq6"
      },
      "execution_count": null,
      "outputs": []
    },
    {
      "cell_type": "markdown",
      "source": [
        "The Summary of the model: "
      ],
      "metadata": {
        "id": "V0DJu5BHlzry"
      }
    },
    {
      "cell_type": "code",
      "source": [
        "model.summary()\n"
      ],
      "metadata": {
        "id": "I0DjpKW9l4Ye",
        "colab": {
          "base_uri": "https://localhost:8080/"
        },
        "outputId": "01739f83-a923-42e6-9dcd-b0e6941f9645"
      },
      "execution_count": 7,
      "outputs": [
        {
          "output_type": "stream",
          "name": "stdout",
          "text": [
            "Model: \"sequential\"\n",
            "_________________________________________________________________\n",
            " Layer (type)                Output Shape              Param #   \n",
            "=================================================================\n",
            " conv2d (Conv2D)             (None, 178, 178, 16)      448       \n",
            "                                                                 \n",
            " max_pooling2d (MaxPooling2D  (None, 89, 89, 16)       0         \n",
            " )                                                               \n",
            "                                                                 \n",
            " conv2d_1 (Conv2D)           (None, 87, 87, 32)        4640      \n",
            "                                                                 \n",
            " max_pooling2d_1 (MaxPooling  (None, 43, 43, 32)       0         \n",
            " 2D)                                                             \n",
            "                                                                 \n",
            " conv2d_2 (Conv2D)           (None, 41, 41, 64)        18496     \n",
            "                                                                 \n",
            " max_pooling2d_2 (MaxPooling  (None, 20, 20, 64)       0         \n",
            " 2D)                                                             \n",
            "                                                                 \n",
            " conv2d_3 (Conv2D)           (None, 18, 18, 128)       73856     \n",
            "                                                                 \n",
            " max_pooling2d_3 (MaxPooling  (None, 9, 9, 128)        0         \n",
            " 2D)                                                             \n",
            "                                                                 \n",
            " flatten (Flatten)           (None, 10368)             0         \n",
            "                                                                 \n",
            " dense (Dense)               (None, 550)               5702950   \n",
            "                                                                 \n",
            " dropout (Dropout)           (None, 550)               0         \n",
            "                                                                 \n",
            " dense_1 (Dense)             (None, 400)               220400    \n",
            "                                                                 \n",
            " dropout_1 (Dropout)         (None, 400)               0         \n",
            "                                                                 \n",
            " dense_2 (Dense)             (None, 300)               120300    \n",
            "                                                                 \n",
            " dropout_2 (Dropout)         (None, 300)               0         \n",
            "                                                                 \n",
            " dense_3 (Dense)             (None, 200)               60200     \n",
            "                                                                 \n",
            " dropout_3 (Dropout)         (None, 200)               0         \n",
            "                                                                 \n",
            " dense_4 (Dense)             (None, 5)                 1005      \n",
            "                                                                 \n",
            "=================================================================\n",
            "Total params: 6,202,295\n",
            "Trainable params: 6,202,295\n",
            "Non-trainable params: 0\n",
            "_________________________________________________________________\n"
          ]
        }
      ]
    },
    {
      "cell_type": "markdown",
      "source": [
        "The paramters of the model:"
      ],
      "metadata": {
        "id": "zNvjJgpcmVh6"
      }
    },
    {
      "cell_type": "code",
      "source": [
        "%%time\n",
        "from tensorflow.keras.optimizers import RMSprop,SGD,Adam\n",
        "\n",
        "adam=Adam(lr=0.001)\n",
        "model.compile(optimizer='adam',   #Optimiser  used to reduce the cost calculated by cross-entropy\n",
        "              loss='categorical_crossentropy', #the loss function used to calculate the error\n",
        "              metrics = ['acc'])     #the metrics used to represent the efficiency of the model\n"
      ],
      "metadata": {
        "id": "W-jejldUk4Cb",
        "colab": {
          "base_uri": "https://localhost:8080/"
        },
        "outputId": "485c174e-7a58-48b9-ef8b-b1f2e6dc47b0"
      },
      "execution_count": 8,
      "outputs": [
        {
          "output_type": "stream",
          "name": "stdout",
          "text": [
            "CPU times: user 17.3 ms, sys: 0 ns, total: 17.3 ms\n",
            "Wall time: 18.3 ms\n"
          ]
        },
        {
          "output_type": "stream",
          "name": "stderr",
          "text": [
            "/usr/local/lib/python3.8/dist-packages/keras/optimizers/optimizer_v2/adam.py:110: UserWarning: The `lr` argument is deprecated, use `learning_rate` instead.\n",
            "  super(Adam, self).__init__(name, **kwargs)\n"
          ]
        }
      ]
    },
    {
      "cell_type": "markdown",
      "source": [
        "Training and validation data:"
      ],
      "metadata": {
        "id": "ZAEa-MoImlIh"
      }
    },
    {
      "cell_type": "code",
      "source": [
        "%%time\n",
        "bs=30         #Setting batch size\n",
        "    \n",
        "train_dir = \"logoDataFastFood/train/\"  #Setting training directory\n",
        "validation_dir = \"logoDataFastFood/test/\"  #Setting testing directory\n",
        "from tensorflow.keras.preprocessing.image import ImageDataGenerator \n",
        "\n",
        "# All images will be rescaled by 1./255.\n",
        "train_datagen = ImageDataGenerator( rescale = 1.0/255. )\n",
        "test_datagen  = ImageDataGenerator( rescale = 1.0/255. )\n",
        "\n",
        "# Flow training images in batches of 20 using train_datagen generator\n",
        "#Flow_from_directory function lets the classifier directly identify the labels from the name of the directories the image lies in\n",
        "train_generator = train_datagen.flow_from_directory(train_dir,\n",
        "                                                    batch_size=bs,\n",
        "                                                    class_mode='categorical',\n",
        "                                                    target_size=(180,180))     \n",
        "\n",
        "# Flow validation images in batches of 20 using test_datagen generator\n",
        "\n",
        "validation_generator =  test_datagen.flow_from_directory(validation_dir,\n",
        "                                                         batch_size=bs,\n",
        "                                                         class_mode  = 'categorical',\n",
        "                                                         target_size=(180,180))\n"
      ],
      "metadata": {
        "id": "HT6C5l5imvrS",
        "colab": {
          "base_uri": "https://localhost:8080/"
        },
        "outputId": "674d1be0-6556-40f1-e92f-689cde4fa3c6"
      },
      "execution_count": 9,
      "outputs": [
        {
          "output_type": "stream",
          "name": "stdout",
          "text": [
            "Found 1465 images belonging to 5 classes.\n",
            "Found 893 images belonging to 5 classes.\n",
            "CPU times: user 114 ms, sys: 40.5 ms, total: 154 ms\n",
            "Wall time: 125 ms\n"
          ]
        }
      ]
    },
    {
      "cell_type": "markdown",
      "source": [
        "Fitting the model:"
      ],
      "metadata": {
        "id": "v9iSyXgSm6Ji"
      }
    },
    {
      "cell_type": "code",
      "source": [
        "%%time\n",
        "history = model.fit(train_generator,\n",
        "                    validation_data=validation_generator,\n",
        "                    steps_per_epoch=150 // bs,\n",
        "                    epochs=50,\n",
        "                    validation_steps=50 // bs,\n",
        "                    verbose=2)\n"
      ],
      "metadata": {
        "id": "o7rr8Gqym9ua",
        "colab": {
          "base_uri": "https://localhost:8080/"
        },
        "outputId": "6a2aa075-3861-4b42-c9c7-300bbec5c308"
      },
      "execution_count": 16,
      "outputs": [
        {
          "output_type": "stream",
          "name": "stdout",
          "text": [
            "Epoch 1/50\n",
            "5/5 - 7s - loss: 0.0678 - acc: 0.9867 - val_loss: 1.9647 - val_acc: 0.7333 - 7s/epoch - 1s/step\n",
            "Epoch 2/50\n",
            "5/5 - 6s - loss: 0.1155 - acc: 0.9600 - val_loss: 1.8297 - val_acc: 0.7667 - 6s/epoch - 1s/step\n",
            "Epoch 3/50\n",
            "5/5 - 6s - loss: 0.0873 - acc: 0.9667 - val_loss: 0.6968 - val_acc: 0.7333 - 6s/epoch - 1s/step\n",
            "Epoch 4/50\n",
            "5/5 - 6s - loss: 0.0229 - acc: 1.0000 - val_loss: 1.7500 - val_acc: 0.7333 - 6s/epoch - 1s/step\n",
            "Epoch 5/50\n",
            "5/5 - 6s - loss: 0.1640 - acc: 0.9733 - val_loss: 2.0971 - val_acc: 0.6667 - 6s/epoch - 1s/step\n",
            "Epoch 6/50\n",
            "5/5 - 6s - loss: 0.1727 - acc: 0.9600 - val_loss: 1.3794 - val_acc: 0.8000 - 6s/epoch - 1s/step\n",
            "Epoch 7/50\n",
            "5/5 - 6s - loss: 0.1406 - acc: 0.9667 - val_loss: 2.0601 - val_acc: 0.7667 - 6s/epoch - 1s/step\n",
            "Epoch 8/50\n",
            "5/5 - 6s - loss: 0.1977 - acc: 0.9586 - val_loss: 1.4591 - val_acc: 0.7333 - 6s/epoch - 1s/step\n",
            "Epoch 9/50\n",
            "5/5 - 6s - loss: 0.2398 - acc: 0.9267 - val_loss: 0.4826 - val_acc: 0.9000 - 6s/epoch - 1s/step\n",
            "Epoch 10/50\n",
            "5/5 - 8s - loss: 0.0930 - acc: 0.9800 - val_loss: 0.8298 - val_acc: 0.7333 - 8s/epoch - 2s/step\n",
            "Epoch 11/50\n",
            "5/5 - 6s - loss: 0.0974 - acc: 0.9600 - val_loss: 1.3624 - val_acc: 0.6667 - 6s/epoch - 1s/step\n",
            "Epoch 12/50\n",
            "5/5 - 6s - loss: 0.1498 - acc: 0.9655 - val_loss: 0.6621 - val_acc: 0.7667 - 6s/epoch - 1s/step\n",
            "Epoch 13/50\n",
            "5/5 - 6s - loss: 0.0779 - acc: 0.9800 - val_loss: 1.9182 - val_acc: 0.7000 - 6s/epoch - 1s/step\n",
            "Epoch 14/50\n",
            "5/5 - 6s - loss: 0.0464 - acc: 0.9867 - val_loss: 1.4447 - val_acc: 0.7667 - 6s/epoch - 1s/step\n",
            "Epoch 15/50\n",
            "5/5 - 6s - loss: 0.0641 - acc: 0.9867 - val_loss: 1.0284 - val_acc: 0.7667 - 6s/epoch - 1s/step\n",
            "Epoch 16/50\n",
            "5/5 - 6s - loss: 0.0969 - acc: 0.9667 - val_loss: 2.3303 - val_acc: 0.6000 - 6s/epoch - 1s/step\n",
            "Epoch 17/50\n",
            "5/5 - 6s - loss: 0.0411 - acc: 0.9931 - val_loss: 1.9334 - val_acc: 0.7000 - 6s/epoch - 1s/step\n",
            "Epoch 18/50\n",
            "5/5 - 6s - loss: 0.1713 - acc: 0.9733 - val_loss: 1.8426 - val_acc: 0.6667 - 6s/epoch - 1s/step\n",
            "Epoch 19/50\n",
            "5/5 - 6s - loss: 0.0675 - acc: 0.9800 - val_loss: 1.8080 - val_acc: 0.7667 - 6s/epoch - 1s/step\n",
            "Epoch 20/50\n",
            "5/5 - 6s - loss: 0.1115 - acc: 0.9533 - val_loss: 0.9756 - val_acc: 0.7667 - 6s/epoch - 1s/step\n",
            "Epoch 21/50\n",
            "5/5 - 6s - loss: 0.1436 - acc: 0.9600 - val_loss: 1.7362 - val_acc: 0.7000 - 6s/epoch - 1s/step\n",
            "Epoch 22/50\n",
            "5/5 - 6s - loss: 0.1663 - acc: 0.9600 - val_loss: 0.7528 - val_acc: 0.8000 - 6s/epoch - 1s/step\n",
            "Epoch 23/50\n",
            "5/5 - 6s - loss: 0.0385 - acc: 0.9933 - val_loss: 0.4630 - val_acc: 0.8000 - 6s/epoch - 1s/step\n",
            "Epoch 24/50\n",
            "5/5 - 6s - loss: 0.0552 - acc: 0.9867 - val_loss: 1.3803 - val_acc: 0.7667 - 6s/epoch - 1s/step\n",
            "Epoch 25/50\n",
            "5/5 - 6s - loss: 0.0408 - acc: 0.9933 - val_loss: 1.2733 - val_acc: 0.7333 - 6s/epoch - 1s/step\n",
            "Epoch 26/50\n",
            "5/5 - 6s - loss: 0.1164 - acc: 0.9793 - val_loss: 0.7363 - val_acc: 0.8000 - 6s/epoch - 1s/step\n",
            "Epoch 27/50\n",
            "5/5 - 6s - loss: 0.0645 - acc: 0.9867 - val_loss: 0.9685 - val_acc: 0.7667 - 6s/epoch - 1s/step\n",
            "Epoch 28/50\n",
            "5/5 - 6s - loss: 0.0147 - acc: 0.9933 - val_loss: 0.2274 - val_acc: 0.9333 - 6s/epoch - 1s/step\n",
            "Epoch 29/50\n",
            "5/5 - 6s - loss: 0.0522 - acc: 0.9793 - val_loss: 1.4596 - val_acc: 0.7667 - 6s/epoch - 1s/step\n",
            "Epoch 30/50\n",
            "5/5 - 6s - loss: 0.0580 - acc: 0.9800 - val_loss: 0.8651 - val_acc: 0.8667 - 6s/epoch - 1s/step\n",
            "Epoch 31/50\n",
            "5/5 - 6s - loss: 0.0296 - acc: 0.9933 - val_loss: 0.6514 - val_acc: 0.9333 - 6s/epoch - 1s/step\n",
            "Epoch 32/50\n",
            "5/5 - 6s - loss: 0.0117 - acc: 1.0000 - val_loss: 1.4665 - val_acc: 0.7000 - 6s/epoch - 1s/step\n",
            "Epoch 33/50\n",
            "5/5 - 6s - loss: 0.0068 - acc: 1.0000 - val_loss: 1.0590 - val_acc: 0.7667 - 6s/epoch - 1s/step\n",
            "Epoch 34/50\n",
            "5/5 - 6s - loss: 0.0195 - acc: 0.9933 - val_loss: 1.4451 - val_acc: 0.7333 - 6s/epoch - 1s/step\n",
            "Epoch 35/50\n",
            "5/5 - 6s - loss: 0.0148 - acc: 0.9933 - val_loss: 2.0324 - val_acc: 0.7333 - 6s/epoch - 1s/step\n",
            "Epoch 36/50\n",
            "5/5 - 6s - loss: 0.0064 - acc: 1.0000 - val_loss: 1.5940 - val_acc: 0.7667 - 6s/epoch - 1s/step\n",
            "Epoch 37/50\n",
            "5/5 - 6s - loss: 0.0060 - acc: 1.0000 - val_loss: 1.0904 - val_acc: 0.8667 - 6s/epoch - 1s/step\n",
            "Epoch 38/50\n",
            "5/5 - 6s - loss: 0.0652 - acc: 0.9933 - val_loss: 2.2954 - val_acc: 0.6667 - 6s/epoch - 1s/step\n",
            "Epoch 39/50\n",
            "5/5 - 6s - loss: 0.0415 - acc: 0.9933 - val_loss: 2.5131 - val_acc: 0.7667 - 6s/epoch - 1s/step\n",
            "Epoch 40/50\n",
            "5/5 - 6s - loss: 0.0375 - acc: 0.9867 - val_loss: 1.8171 - val_acc: 0.7333 - 6s/epoch - 1s/step\n",
            "Epoch 41/50\n",
            "5/5 - 6s - loss: 0.0192 - acc: 0.9867 - val_loss: 2.4456 - val_acc: 0.7667 - 6s/epoch - 1s/step\n",
            "Epoch 42/50\n",
            "5/5 - 8s - loss: 0.0111 - acc: 1.0000 - val_loss: 2.1075 - val_acc: 0.8000 - 8s/epoch - 2s/step\n",
            "Epoch 43/50\n",
            "5/5 - 6s - loss: 0.1192 - acc: 0.9733 - val_loss: 1.5548 - val_acc: 0.7667 - 6s/epoch - 1s/step\n",
            "Epoch 44/50\n",
            "5/5 - 6s - loss: 0.0340 - acc: 0.9867 - val_loss: 1.5605 - val_acc: 0.7333 - 6s/epoch - 1s/step\n",
            "Epoch 45/50\n",
            "5/5 - 6s - loss: 0.0138 - acc: 1.0000 - val_loss: 1.9456 - val_acc: 0.6667 - 6s/epoch - 1s/step\n",
            "Epoch 46/50\n",
            "5/5 - 6s - loss: 0.1095 - acc: 0.9667 - val_loss: 0.9152 - val_acc: 0.7667 - 6s/epoch - 1s/step\n",
            "Epoch 47/50\n",
            "5/5 - 6s - loss: 0.0424 - acc: 0.9733 - val_loss: 1.4901 - val_acc: 0.7333 - 6s/epoch - 1s/step\n",
            "Epoch 48/50\n",
            "5/5 - 6s - loss: 0.0439 - acc: 0.9800 - val_loss: 0.3581 - val_acc: 0.9000 - 6s/epoch - 1s/step\n",
            "Epoch 49/50\n",
            "5/5 - 6s - loss: 0.0174 - acc: 0.9933 - val_loss: 1.0441 - val_acc: 0.6667 - 6s/epoch - 1s/step\n",
            "Epoch 50/50\n",
            "5/5 - 6s - loss: 0.0393 - acc: 0.9867 - val_loss: 0.7439 - val_acc: 0.8333 - 6s/epoch - 1s/step\n",
            "CPU times: user 8min 52s, sys: 7.69 s, total: 9min\n",
            "Wall time: 6min 56s\n"
          ]
        }
      ]
    },
    {
      "cell_type": "code",
      "source": [],
      "metadata": {
        "id": "7BpPKPUFTjmi"
      },
      "execution_count": null,
      "outputs": []
    },
    {
      "cell_type": "markdown",
      "source": [
        "Try with other parametrs!"
      ],
      "metadata": {
        "id": "CThiF3ALnMga"
      }
    },
    {
      "cell_type": "code",
      "source": [
        "model.save('Final_model_cpu_cnnV2.h5')"
      ],
      "metadata": {
        "id": "8sH7yfGenAfB"
      },
      "execution_count": 11,
      "outputs": []
    },
    {
      "cell_type": "code",
      "source": [
        "import pandas as pd\n",
        "lc = pd.DataFrame(history.history)\n",
        "lc"
      ],
      "metadata": {
        "colab": {
          "base_uri": "https://localhost:8080/",
          "height": 1000
        },
        "id": "uPo1k7UdQ5ZF",
        "outputId": "72bee8a6-264e-4ce3-a74f-24bd1eeda161"
      },
      "execution_count": 17,
      "outputs": [
        {
          "output_type": "execute_result",
          "data": {
            "text/plain": [
              "        loss       acc  val_loss   val_acc\n",
              "0   0.067792  0.986667  1.964748  0.733333\n",
              "1   0.115486  0.960000  1.829746  0.766667\n",
              "2   0.087285  0.966667  0.696815  0.733333\n",
              "3   0.022925  1.000000  1.750000  0.733333\n",
              "4   0.164013  0.973333  2.097096  0.666667\n",
              "5   0.172685  0.960000  1.379358  0.800000\n",
              "6   0.140563  0.966667  2.060129  0.766667\n",
              "7   0.197671  0.958621  1.459145  0.733333\n",
              "8   0.239825  0.926667  0.482558  0.900000\n",
              "9   0.092982  0.980000  0.829848  0.733333\n",
              "10  0.097424  0.960000  1.362434  0.666667\n",
              "11  0.149808  0.965517  0.662117  0.766667\n",
              "12  0.077858  0.980000  1.918160  0.700000\n",
              "13  0.046389  0.986667  1.444678  0.766667\n",
              "14  0.064111  0.986667  1.028377  0.766667\n",
              "15  0.096901  0.966667  2.330337  0.600000\n",
              "16  0.041136  0.993103  1.933378  0.700000\n",
              "17  0.171296  0.973333  1.842632  0.666667\n",
              "18  0.067482  0.980000  1.808015  0.766667\n",
              "19  0.111464  0.953333  0.975639  0.766667\n",
              "20  0.143593  0.960000  1.736226  0.700000\n",
              "21  0.166282  0.960000  0.752781  0.800000\n",
              "22  0.038512  0.993333  0.462999  0.800000\n",
              "23  0.055166  0.986667  1.380260  0.766667\n",
              "24  0.040789  0.993333  1.273267  0.733333\n",
              "25  0.116379  0.979310  0.736264  0.800000\n",
              "26  0.064528  0.986667  0.968480  0.766667\n",
              "27  0.014710  0.993333  0.227387  0.933333\n",
              "28  0.052158  0.979310  1.459596  0.766667\n",
              "29  0.058048  0.980000  0.865136  0.866667\n",
              "30  0.029569  0.993333  0.651376  0.933333\n",
              "31  0.011668  1.000000  1.466480  0.700000\n",
              "32  0.006760  1.000000  1.059020  0.766667\n",
              "33  0.019498  0.993333  1.445059  0.733333\n",
              "34  0.014757  0.993333  2.032439  0.733333\n",
              "35  0.006411  1.000000  1.593966  0.766667\n",
              "36  0.005995  1.000000  1.090435  0.866667\n",
              "37  0.065239  0.993333  2.295419  0.666667\n",
              "38  0.041521  0.993333  2.513148  0.766667\n",
              "39  0.037466  0.986667  1.817085  0.733333\n",
              "40  0.019237  0.986667  2.445557  0.766667\n",
              "41  0.011070  1.000000  2.107503  0.800000\n",
              "42  0.119160  0.973333  1.554818  0.766667\n",
              "43  0.033991  0.986667  1.560495  0.733333\n",
              "44  0.013805  1.000000  1.945615  0.666667\n",
              "45  0.109463  0.966667  0.915244  0.766667\n",
              "46  0.042376  0.973333  1.490091  0.733333\n",
              "47  0.043864  0.980000  0.358088  0.900000\n",
              "48  0.017393  0.993333  1.044108  0.666667\n",
              "49  0.039252  0.986667  0.743938  0.833333"
            ],
            "text/html": [
              "\n",
              "  <div id=\"df-bd3439d5-fc37-4c7b-b82b-0b504a68556c\">\n",
              "    <div class=\"colab-df-container\">\n",
              "      <div>\n",
              "<style scoped>\n",
              "    .dataframe tbody tr th:only-of-type {\n",
              "        vertical-align: middle;\n",
              "    }\n",
              "\n",
              "    .dataframe tbody tr th {\n",
              "        vertical-align: top;\n",
              "    }\n",
              "\n",
              "    .dataframe thead th {\n",
              "        text-align: right;\n",
              "    }\n",
              "</style>\n",
              "<table border=\"1\" class=\"dataframe\">\n",
              "  <thead>\n",
              "    <tr style=\"text-align: right;\">\n",
              "      <th></th>\n",
              "      <th>loss</th>\n",
              "      <th>acc</th>\n",
              "      <th>val_loss</th>\n",
              "      <th>val_acc</th>\n",
              "    </tr>\n",
              "  </thead>\n",
              "  <tbody>\n",
              "    <tr>\n",
              "      <th>0</th>\n",
              "      <td>0.067792</td>\n",
              "      <td>0.986667</td>\n",
              "      <td>1.964748</td>\n",
              "      <td>0.733333</td>\n",
              "    </tr>\n",
              "    <tr>\n",
              "      <th>1</th>\n",
              "      <td>0.115486</td>\n",
              "      <td>0.960000</td>\n",
              "      <td>1.829746</td>\n",
              "      <td>0.766667</td>\n",
              "    </tr>\n",
              "    <tr>\n",
              "      <th>2</th>\n",
              "      <td>0.087285</td>\n",
              "      <td>0.966667</td>\n",
              "      <td>0.696815</td>\n",
              "      <td>0.733333</td>\n",
              "    </tr>\n",
              "    <tr>\n",
              "      <th>3</th>\n",
              "      <td>0.022925</td>\n",
              "      <td>1.000000</td>\n",
              "      <td>1.750000</td>\n",
              "      <td>0.733333</td>\n",
              "    </tr>\n",
              "    <tr>\n",
              "      <th>4</th>\n",
              "      <td>0.164013</td>\n",
              "      <td>0.973333</td>\n",
              "      <td>2.097096</td>\n",
              "      <td>0.666667</td>\n",
              "    </tr>\n",
              "    <tr>\n",
              "      <th>5</th>\n",
              "      <td>0.172685</td>\n",
              "      <td>0.960000</td>\n",
              "      <td>1.379358</td>\n",
              "      <td>0.800000</td>\n",
              "    </tr>\n",
              "    <tr>\n",
              "      <th>6</th>\n",
              "      <td>0.140563</td>\n",
              "      <td>0.966667</td>\n",
              "      <td>2.060129</td>\n",
              "      <td>0.766667</td>\n",
              "    </tr>\n",
              "    <tr>\n",
              "      <th>7</th>\n",
              "      <td>0.197671</td>\n",
              "      <td>0.958621</td>\n",
              "      <td>1.459145</td>\n",
              "      <td>0.733333</td>\n",
              "    </tr>\n",
              "    <tr>\n",
              "      <th>8</th>\n",
              "      <td>0.239825</td>\n",
              "      <td>0.926667</td>\n",
              "      <td>0.482558</td>\n",
              "      <td>0.900000</td>\n",
              "    </tr>\n",
              "    <tr>\n",
              "      <th>9</th>\n",
              "      <td>0.092982</td>\n",
              "      <td>0.980000</td>\n",
              "      <td>0.829848</td>\n",
              "      <td>0.733333</td>\n",
              "    </tr>\n",
              "    <tr>\n",
              "      <th>10</th>\n",
              "      <td>0.097424</td>\n",
              "      <td>0.960000</td>\n",
              "      <td>1.362434</td>\n",
              "      <td>0.666667</td>\n",
              "    </tr>\n",
              "    <tr>\n",
              "      <th>11</th>\n",
              "      <td>0.149808</td>\n",
              "      <td>0.965517</td>\n",
              "      <td>0.662117</td>\n",
              "      <td>0.766667</td>\n",
              "    </tr>\n",
              "    <tr>\n",
              "      <th>12</th>\n",
              "      <td>0.077858</td>\n",
              "      <td>0.980000</td>\n",
              "      <td>1.918160</td>\n",
              "      <td>0.700000</td>\n",
              "    </tr>\n",
              "    <tr>\n",
              "      <th>13</th>\n",
              "      <td>0.046389</td>\n",
              "      <td>0.986667</td>\n",
              "      <td>1.444678</td>\n",
              "      <td>0.766667</td>\n",
              "    </tr>\n",
              "    <tr>\n",
              "      <th>14</th>\n",
              "      <td>0.064111</td>\n",
              "      <td>0.986667</td>\n",
              "      <td>1.028377</td>\n",
              "      <td>0.766667</td>\n",
              "    </tr>\n",
              "    <tr>\n",
              "      <th>15</th>\n",
              "      <td>0.096901</td>\n",
              "      <td>0.966667</td>\n",
              "      <td>2.330337</td>\n",
              "      <td>0.600000</td>\n",
              "    </tr>\n",
              "    <tr>\n",
              "      <th>16</th>\n",
              "      <td>0.041136</td>\n",
              "      <td>0.993103</td>\n",
              "      <td>1.933378</td>\n",
              "      <td>0.700000</td>\n",
              "    </tr>\n",
              "    <tr>\n",
              "      <th>17</th>\n",
              "      <td>0.171296</td>\n",
              "      <td>0.973333</td>\n",
              "      <td>1.842632</td>\n",
              "      <td>0.666667</td>\n",
              "    </tr>\n",
              "    <tr>\n",
              "      <th>18</th>\n",
              "      <td>0.067482</td>\n",
              "      <td>0.980000</td>\n",
              "      <td>1.808015</td>\n",
              "      <td>0.766667</td>\n",
              "    </tr>\n",
              "    <tr>\n",
              "      <th>19</th>\n",
              "      <td>0.111464</td>\n",
              "      <td>0.953333</td>\n",
              "      <td>0.975639</td>\n",
              "      <td>0.766667</td>\n",
              "    </tr>\n",
              "    <tr>\n",
              "      <th>20</th>\n",
              "      <td>0.143593</td>\n",
              "      <td>0.960000</td>\n",
              "      <td>1.736226</td>\n",
              "      <td>0.700000</td>\n",
              "    </tr>\n",
              "    <tr>\n",
              "      <th>21</th>\n",
              "      <td>0.166282</td>\n",
              "      <td>0.960000</td>\n",
              "      <td>0.752781</td>\n",
              "      <td>0.800000</td>\n",
              "    </tr>\n",
              "    <tr>\n",
              "      <th>22</th>\n",
              "      <td>0.038512</td>\n",
              "      <td>0.993333</td>\n",
              "      <td>0.462999</td>\n",
              "      <td>0.800000</td>\n",
              "    </tr>\n",
              "    <tr>\n",
              "      <th>23</th>\n",
              "      <td>0.055166</td>\n",
              "      <td>0.986667</td>\n",
              "      <td>1.380260</td>\n",
              "      <td>0.766667</td>\n",
              "    </tr>\n",
              "    <tr>\n",
              "      <th>24</th>\n",
              "      <td>0.040789</td>\n",
              "      <td>0.993333</td>\n",
              "      <td>1.273267</td>\n",
              "      <td>0.733333</td>\n",
              "    </tr>\n",
              "    <tr>\n",
              "      <th>25</th>\n",
              "      <td>0.116379</td>\n",
              "      <td>0.979310</td>\n",
              "      <td>0.736264</td>\n",
              "      <td>0.800000</td>\n",
              "    </tr>\n",
              "    <tr>\n",
              "      <th>26</th>\n",
              "      <td>0.064528</td>\n",
              "      <td>0.986667</td>\n",
              "      <td>0.968480</td>\n",
              "      <td>0.766667</td>\n",
              "    </tr>\n",
              "    <tr>\n",
              "      <th>27</th>\n",
              "      <td>0.014710</td>\n",
              "      <td>0.993333</td>\n",
              "      <td>0.227387</td>\n",
              "      <td>0.933333</td>\n",
              "    </tr>\n",
              "    <tr>\n",
              "      <th>28</th>\n",
              "      <td>0.052158</td>\n",
              "      <td>0.979310</td>\n",
              "      <td>1.459596</td>\n",
              "      <td>0.766667</td>\n",
              "    </tr>\n",
              "    <tr>\n",
              "      <th>29</th>\n",
              "      <td>0.058048</td>\n",
              "      <td>0.980000</td>\n",
              "      <td>0.865136</td>\n",
              "      <td>0.866667</td>\n",
              "    </tr>\n",
              "    <tr>\n",
              "      <th>30</th>\n",
              "      <td>0.029569</td>\n",
              "      <td>0.993333</td>\n",
              "      <td>0.651376</td>\n",
              "      <td>0.933333</td>\n",
              "    </tr>\n",
              "    <tr>\n",
              "      <th>31</th>\n",
              "      <td>0.011668</td>\n",
              "      <td>1.000000</td>\n",
              "      <td>1.466480</td>\n",
              "      <td>0.700000</td>\n",
              "    </tr>\n",
              "    <tr>\n",
              "      <th>32</th>\n",
              "      <td>0.006760</td>\n",
              "      <td>1.000000</td>\n",
              "      <td>1.059020</td>\n",
              "      <td>0.766667</td>\n",
              "    </tr>\n",
              "    <tr>\n",
              "      <th>33</th>\n",
              "      <td>0.019498</td>\n",
              "      <td>0.993333</td>\n",
              "      <td>1.445059</td>\n",
              "      <td>0.733333</td>\n",
              "    </tr>\n",
              "    <tr>\n",
              "      <th>34</th>\n",
              "      <td>0.014757</td>\n",
              "      <td>0.993333</td>\n",
              "      <td>2.032439</td>\n",
              "      <td>0.733333</td>\n",
              "    </tr>\n",
              "    <tr>\n",
              "      <th>35</th>\n",
              "      <td>0.006411</td>\n",
              "      <td>1.000000</td>\n",
              "      <td>1.593966</td>\n",
              "      <td>0.766667</td>\n",
              "    </tr>\n",
              "    <tr>\n",
              "      <th>36</th>\n",
              "      <td>0.005995</td>\n",
              "      <td>1.000000</td>\n",
              "      <td>1.090435</td>\n",
              "      <td>0.866667</td>\n",
              "    </tr>\n",
              "    <tr>\n",
              "      <th>37</th>\n",
              "      <td>0.065239</td>\n",
              "      <td>0.993333</td>\n",
              "      <td>2.295419</td>\n",
              "      <td>0.666667</td>\n",
              "    </tr>\n",
              "    <tr>\n",
              "      <th>38</th>\n",
              "      <td>0.041521</td>\n",
              "      <td>0.993333</td>\n",
              "      <td>2.513148</td>\n",
              "      <td>0.766667</td>\n",
              "    </tr>\n",
              "    <tr>\n",
              "      <th>39</th>\n",
              "      <td>0.037466</td>\n",
              "      <td>0.986667</td>\n",
              "      <td>1.817085</td>\n",
              "      <td>0.733333</td>\n",
              "    </tr>\n",
              "    <tr>\n",
              "      <th>40</th>\n",
              "      <td>0.019237</td>\n",
              "      <td>0.986667</td>\n",
              "      <td>2.445557</td>\n",
              "      <td>0.766667</td>\n",
              "    </tr>\n",
              "    <tr>\n",
              "      <th>41</th>\n",
              "      <td>0.011070</td>\n",
              "      <td>1.000000</td>\n",
              "      <td>2.107503</td>\n",
              "      <td>0.800000</td>\n",
              "    </tr>\n",
              "    <tr>\n",
              "      <th>42</th>\n",
              "      <td>0.119160</td>\n",
              "      <td>0.973333</td>\n",
              "      <td>1.554818</td>\n",
              "      <td>0.766667</td>\n",
              "    </tr>\n",
              "    <tr>\n",
              "      <th>43</th>\n",
              "      <td>0.033991</td>\n",
              "      <td>0.986667</td>\n",
              "      <td>1.560495</td>\n",
              "      <td>0.733333</td>\n",
              "    </tr>\n",
              "    <tr>\n",
              "      <th>44</th>\n",
              "      <td>0.013805</td>\n",
              "      <td>1.000000</td>\n",
              "      <td>1.945615</td>\n",
              "      <td>0.666667</td>\n",
              "    </tr>\n",
              "    <tr>\n",
              "      <th>45</th>\n",
              "      <td>0.109463</td>\n",
              "      <td>0.966667</td>\n",
              "      <td>0.915244</td>\n",
              "      <td>0.766667</td>\n",
              "    </tr>\n",
              "    <tr>\n",
              "      <th>46</th>\n",
              "      <td>0.042376</td>\n",
              "      <td>0.973333</td>\n",
              "      <td>1.490091</td>\n",
              "      <td>0.733333</td>\n",
              "    </tr>\n",
              "    <tr>\n",
              "      <th>47</th>\n",
              "      <td>0.043864</td>\n",
              "      <td>0.980000</td>\n",
              "      <td>0.358088</td>\n",
              "      <td>0.900000</td>\n",
              "    </tr>\n",
              "    <tr>\n",
              "      <th>48</th>\n",
              "      <td>0.017393</td>\n",
              "      <td>0.993333</td>\n",
              "      <td>1.044108</td>\n",
              "      <td>0.666667</td>\n",
              "    </tr>\n",
              "    <tr>\n",
              "      <th>49</th>\n",
              "      <td>0.039252</td>\n",
              "      <td>0.986667</td>\n",
              "      <td>0.743938</td>\n",
              "      <td>0.833333</td>\n",
              "    </tr>\n",
              "  </tbody>\n",
              "</table>\n",
              "</div>\n",
              "      <button class=\"colab-df-convert\" onclick=\"convertToInteractive('df-bd3439d5-fc37-4c7b-b82b-0b504a68556c')\"\n",
              "              title=\"Convert this dataframe to an interactive table.\"\n",
              "              style=\"display:none;\">\n",
              "        \n",
              "  <svg xmlns=\"http://www.w3.org/2000/svg\" height=\"24px\"viewBox=\"0 0 24 24\"\n",
              "       width=\"24px\">\n",
              "    <path d=\"M0 0h24v24H0V0z\" fill=\"none\"/>\n",
              "    <path d=\"M18.56 5.44l.94 2.06.94-2.06 2.06-.94-2.06-.94-.94-2.06-.94 2.06-2.06.94zm-11 1L8.5 8.5l.94-2.06 2.06-.94-2.06-.94L8.5 2.5l-.94 2.06-2.06.94zm10 10l.94 2.06.94-2.06 2.06-.94-2.06-.94-.94-2.06-.94 2.06-2.06.94z\"/><path d=\"M17.41 7.96l-1.37-1.37c-.4-.4-.92-.59-1.43-.59-.52 0-1.04.2-1.43.59L10.3 9.45l-7.72 7.72c-.78.78-.78 2.05 0 2.83L4 21.41c.39.39.9.59 1.41.59.51 0 1.02-.2 1.41-.59l7.78-7.78 2.81-2.81c.8-.78.8-2.07 0-2.86zM5.41 20L4 18.59l7.72-7.72 1.47 1.35L5.41 20z\"/>\n",
              "  </svg>\n",
              "      </button>\n",
              "      \n",
              "  <style>\n",
              "    .colab-df-container {\n",
              "      display:flex;\n",
              "      flex-wrap:wrap;\n",
              "      gap: 12px;\n",
              "    }\n",
              "\n",
              "    .colab-df-convert {\n",
              "      background-color: #E8F0FE;\n",
              "      border: none;\n",
              "      border-radius: 50%;\n",
              "      cursor: pointer;\n",
              "      display: none;\n",
              "      fill: #1967D2;\n",
              "      height: 32px;\n",
              "      padding: 0 0 0 0;\n",
              "      width: 32px;\n",
              "    }\n",
              "\n",
              "    .colab-df-convert:hover {\n",
              "      background-color: #E2EBFA;\n",
              "      box-shadow: 0px 1px 2px rgba(60, 64, 67, 0.3), 0px 1px 3px 1px rgba(60, 64, 67, 0.15);\n",
              "      fill: #174EA6;\n",
              "    }\n",
              "\n",
              "    [theme=dark] .colab-df-convert {\n",
              "      background-color: #3B4455;\n",
              "      fill: #D2E3FC;\n",
              "    }\n",
              "\n",
              "    [theme=dark] .colab-df-convert:hover {\n",
              "      background-color: #434B5C;\n",
              "      box-shadow: 0px 1px 3px 1px rgba(0, 0, 0, 0.15);\n",
              "      filter: drop-shadow(0px 1px 2px rgba(0, 0, 0, 0.3));\n",
              "      fill: #FFFFFF;\n",
              "    }\n",
              "  </style>\n",
              "\n",
              "      <script>\n",
              "        const buttonEl =\n",
              "          document.querySelector('#df-bd3439d5-fc37-4c7b-b82b-0b504a68556c button.colab-df-convert');\n",
              "        buttonEl.style.display =\n",
              "          google.colab.kernel.accessAllowed ? 'block' : 'none';\n",
              "\n",
              "        async function convertToInteractive(key) {\n",
              "          const element = document.querySelector('#df-bd3439d5-fc37-4c7b-b82b-0b504a68556c');\n",
              "          const dataTable =\n",
              "            await google.colab.kernel.invokeFunction('convertToInteractive',\n",
              "                                                     [key], {});\n",
              "          if (!dataTable) return;\n",
              "\n",
              "          const docLinkHtml = 'Like what you see? Visit the ' +\n",
              "            '<a target=\"_blank\" href=https://colab.research.google.com/notebooks/data_table.ipynb>data table notebook</a>'\n",
              "            + ' to learn more about interactive tables.';\n",
              "          element.innerHTML = '';\n",
              "          dataTable['output_type'] = 'display_data';\n",
              "          await google.colab.output.renderOutput(dataTable, element);\n",
              "          const docLink = document.createElement('div');\n",
              "          docLink.innerHTML = docLinkHtml;\n",
              "          element.appendChild(docLink);\n",
              "        }\n",
              "      </script>\n",
              "    </div>\n",
              "  </div>\n",
              "  "
            ]
          },
          "metadata": {},
          "execution_count": 17
        }
      ]
    },
    {
      "cell_type": "code",
      "source": [
        "lc.plot(figsize=(8,5))\n",
        "plt.title(\"Learning Curve\")\n",
        "plt.grid()"
      ],
      "metadata": {
        "colab": {
          "base_uri": "https://localhost:8080/",
          "height": 336
        },
        "id": "r4WjD5AUQ-6E",
        "outputId": "d1e8b8b1-2bec-430f-902c-967596cc5d67"
      },
      "execution_count": 18,
      "outputs": [
        {
          "output_type": "display_data",
          "data": {
            "text/plain": [
              "<Figure size 576x360 with 1 Axes>"
            ],
            "image/png": "[encoded data removed]"
          },
          "metadata": {
            "needs_background": "light"
          }
        }
      ]
    }
  ]
}